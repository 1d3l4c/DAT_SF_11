{
 "metadata": {
  "name": "",
  "signature": "sha256:3fa517f0243b0c382298b992d816978f9efe8e41d57c58275c844af61c3d6411"
 },
 "nbformat": 3,
 "nbformat_minor": 0,
 "worksheets": [
  {
   "cells": [
    {
     "cell_type": "heading",
     "level": 1,
     "metadata": {},
     "source": [
      "Lab 1 and 2"
     ]
    },
    {
     "cell_type": "heading",
     "level": 2,
     "metadata": {},
     "source": [
      "Importing and loading"
     ]
    },
    {
     "cell_type": "code",
     "collapsed": false,
     "input": [
      "# how to load seaborn\n",
      "!pip install seaborn "
     ],
     "language": "python",
     "metadata": {},
     "outputs": [
      {
       "output_type": "stream",
       "stream": "stdout",
       "text": [
        "Requirement already satisfied (use --upgrade to upgrade): seaborn in /Users/David/anaconda/lib/python2.7/site-packages\r\n",
        "Cleaning up...\r\n"
       ]
      }
     ],
     "prompt_number": 8
    },
    {
     "cell_type": "code",
     "collapsed": false,
     "input": [
      "import pandas as pd\n",
      "import numpy as np\n",
      "import seaborn as sns\n",
      "import matplotlib.pyplot as plt"
     ],
     "language": "python",
     "metadata": {},
     "outputs": [],
     "prompt_number": 9
    },
    {
     "cell_type": "code",
     "collapsed": false,
     "input": [
      "# enables inline Plots\n",
      "%matplotlib inline"
     ],
     "language": "python",
     "metadata": {},
     "outputs": [],
     "prompt_number": 10
    },
    {
     "cell_type": "code",
     "collapsed": false,
     "input": [
      "# how to import image loading package\n",
      "from IPython.display import Image"
     ],
     "language": "python",
     "metadata": {},
     "outputs": [],
     "prompt_number": 11
    },
    {
     "cell_type": "heading",
     "level": 2,
     "metadata": {},
     "source": [
      "Setting preferences"
     ]
    },
    {
     "cell_type": "code",
     "collapsed": false,
     "input": [
      "# Limit rows displayed in notebook\n",
      "pd.set_option('display.max_columns', None)"
     ],
     "language": "python",
     "metadata": {},
     "outputs": [],
     "prompt_number": 12
    },
    {
     "cell_type": "code",
     "collapsed": false,
     "input": [
      "pd.set_option('display.max_rows', 10)"
     ],
     "language": "python",
     "metadata": {},
     "outputs": [],
     "prompt_number": 13
    },
    {
     "cell_type": "code",
     "collapsed": false,
     "input": [
      "# limits number of decimal points displayed \n",
      "pd.set_option('display.precision', 3)"
     ],
     "language": "python",
     "metadata": {},
     "outputs": [],
     "prompt_number": 14
    },
    {
     "cell_type": "code",
     "collapsed": false,
     "input": [
      "# to make \n",
      "pd.set_option('display.mpl_style', 'default')"
     ],
     "language": "python",
     "metadata": {},
     "outputs": [],
     "prompt_number": 15
    },
    {
     "cell_type": "code",
     "collapsed": false,
     "input": [
      "# prints version of pandas\n",
      "print 'Pandas Version: ', pd.__version__"
     ],
     "language": "python",
     "metadata": {},
     "outputs": [
      {
       "output_type": "stream",
       "stream": "stdout",
       "text": [
        "Pandas Version:  0.14.1\n"
       ]
      }
     ],
     "prompt_number": 16
    },
    {
     "cell_type": "code",
     "collapsed": false,
     "input": [
      "# prints version of numpy\n",
      "print 'Numpy Version: ', np.__version__"
     ],
     "language": "python",
     "metadata": {},
     "outputs": [
      {
       "output_type": "stream",
       "stream": "stdout",
       "text": [
        "Numpy Version:  1.9.0\n"
       ]
      }
     ],
     "prompt_number": 17
    },
    {
     "cell_type": "heading",
     "level": 2,
     "metadata": {},
     "source": [
      "Opening a File"
     ]
    },
    {
     "cell_type": "code",
     "collapsed": false,
     "input": [
      "# opens a csv\n",
      "df = pd.read_csv(\u2018example_file.csv\u2019)\n",
      "# use '../' to go back directories and the 'directory/' names to go forward\n",
      "df = pd.read_csv('../../data/example_file.csv')"
     ],
     "language": "python",
     "metadata": {},
     "outputs": []
    },
    {
     "cell_type": "heading",
     "level": 2,
     "metadata": {},
     "source": [
      "Viewing File"
     ]
    },
    {
     "cell_type": "code",
     "collapsed": false,
     "input": [
      "# to look at the column names, types, # of non_null values\n",
      "df.info()"
     ],
     "language": "python",
     "metadata": {},
     "outputs": []
    },
    {
     "cell_type": "code",
     "collapsed": false,
     "input": [
      "# view description\n",
      "df.describe()"
     ],
     "language": "python",
     "metadata": {},
     "outputs": []
    },
    {
     "cell_type": "code",
     "collapsed": false,
     "input": [
      "# see column names\n",
      "df.columns"
     ],
     "language": "python",
     "metadata": {},
     "outputs": []
    },
    {
     "cell_type": "code",
     "collapsed": false,
     "input": [
      "# Finding unique column values\n",
      "df.column.unique()\n",
      "# also works for any of these\n",
      "df[\u2018column\u2019].unique()"
     ],
     "language": "python",
     "metadata": {},
     "outputs": []
    },
    {
     "cell_type": "code",
     "collapsed": false,
     "input": [
      "# value count, how many of each unique value in a column\n",
      "df.column.value_count()"
     ],
     "language": "python",
     "metadata": {},
     "outputs": []
    },
    {
     "cell_type": "code",
     "collapsed": false,
     "input": [
      "# How to get the mean of a column\n",
      "df.column.mean()"
     ],
     "language": "python",
     "metadata": {},
     "outputs": []
    },
    {
     "cell_type": "heading",
     "level": 2,
     "metadata": {},
     "source": [
      "Identifying and filling missing values"
     ]
    },
    {
     "cell_type": "code",
     "collapsed": false,
     "input": [
      "# Identify the missing values in a column rows\n",
      "df[pd.isnull(df.column)]"
     ],
     "language": "python",
     "metadata": {},
     "outputs": []
    },
    {
     "cell_type": "code",
     "collapsed": false,
     "input": [
      "# input a value instead of \u2018na'\n",
      "df.column.fillna(\u201ccould be anything\u201d)\n",
      "\n",
      "# for instance\n",
      "df.column.fillna(df.column.mean())\n",
      "\n",
      "# set equal to a new column for filled out \u2018na\u2019s with old values"
     ],
     "language": "python",
     "metadata": {},
     "outputs": []
    },
    {
     "cell_type": "heading",
     "level": 2,
     "metadata": {},
     "source": [
      "Selecting Rows"
     ]
    },
    {
     "cell_type": "code",
     "collapsed": false,
     "input": [
      "# Selecting rows\n",
      "df.iloc[0]"
     ],
     "language": "python",
     "metadata": {},
     "outputs": []
    },
    {
     "cell_type": "code",
     "collapsed": false,
     "input": [
      "# Selecting every other row in columns 2-4\n",
      "bike.iloc[::2, 2:5]"
     ],
     "language": "python",
     "metadata": {},
     "outputs": []
    },
    {
     "cell_type": "code",
     "collapsed": false,
     "input": [
      "# uses loc\n",
      "# won't work with iloc because there is a coln name\n",
      "# selects rows 0-2 with columns 1 and 2\n",
      "df.loc[0:2, ['column1', 'column2']]"
     ],
     "language": "python",
     "metadata": {},
     "outputs": []
    },
    {
     "cell_type": "code",
     "collapsed": false,
     "input": [
      "# How to select a row\n",
      "df.ix[0]"
     ],
     "language": "python",
     "metadata": {},
     "outputs": []
    },
    {
     "cell_type": "code",
     "collapsed": false,
     "input": [
      "# How to select multiple rows\n",
      "df.ix[0:100]"
     ],
     "language": "python",
     "metadata": {},
     "outputs": []
    },
    {
     "cell_type": "code",
     "collapsed": false,
     "input": [
      "# How to select every other row\n",
      "df.ix[0::2]"
     ],
     "language": "python",
     "metadata": {},
     "outputs": []
    },
    {
     "cell_type": "code",
     "collapsed": false,
     "input": [
      "# How to select rows starting from the last\n",
      "df.ix[::-1]"
     ],
     "language": "python",
     "metadata": {},
     "outputs": []
    },
    {
     "cell_type": "heading",
     "level": 2,
     "metadata": {},
     "source": [
      "Taking a random sample"
     ]
    },
    {
     "cell_type": "code",
     "collapsed": false,
     "input": [
      "# How to take a random sample of rows\n",
      "rows = np.random.choice(df.index.values, 1000)"
     ],
     "language": "python",
     "metadata": {},
     "outputs": []
    },
    {
     "cell_type": "code",
     "collapsed": false,
     "input": [
      "# How to assign sample to data frame\n",
      "sampled_df = df.ix[rows]"
     ],
     "language": "python",
     "metadata": {},
     "outputs": []
    },
    {
     "cell_type": "code",
     "collapsed": false,
     "input": [],
     "language": "python",
     "metadata": {},
     "outputs": []
    },
    {
     "cell_type": "heading",
     "level": 2,
     "metadata": {},
     "source": [
      "Renaming a column"
     ]
    },
    {
     "cell_type": "code",
     "collapsed": false,
     "input": [
      "# replace a column name\n",
      "df.rename(columns = {'coln1' :  'coln2'}, inplace = True)"
     ],
     "language": "python",
     "metadata": {},
     "outputs": []
    },
    {
     "cell_type": "heading",
     "level": 2,
     "metadata": {},
     "source": [
      "Replacing values with nan"
     ]
    },
    {
     "cell_type": "code",
     "collapsed": false,
     "input": [
      "df.column.replace('a_value', np.nan, inplace = True)"
     ],
     "language": "python",
     "metadata": {},
     "outputs": []
    },
    {
     "cell_type": "heading",
     "level": 2,
     "metadata": {},
     "source": [
      "Changing type of field"
     ]
    },
    {
     "cell_type": "code",
     "collapsed": false,
     "input": [
      "df.column = df.column.astype(float)"
     ],
     "language": "python",
     "metadata": {},
     "outputs": []
    },
    {
     "cell_type": "heading",
     "level": 2,
     "metadata": {},
     "source": [
      "Inserting values"
     ]
    },
    {
     "cell_type": "code",
     "collapsed": false,
     "input": [
      "# inserting the mean value by category ex. mean horsepower given number of cylinders\n",
      "df.groupby('column1').column2.mean()\n",
      "# column1 = cylinders\n",
      "# column2 = horsepowers"
     ],
     "language": "python",
     "metadata": {},
     "outputs": []
    },
    {
     "cell_type": "heading",
     "level": 3,
     "metadata": {},
     "source": [
      "inserting the mean value by category"
     ]
    },
    {
     "cell_type": "code",
     "collapsed": false,
     "input": [
      "df.groupby('column1')['column2'].transform(lambda x: x.fillna(x.mean()))"
     ],
     "language": "python",
     "metadata": {},
     "outputs": []
    },
    {
     "cell_type": "code",
     "collapsed": false,
     "input": [],
     "language": "python",
     "metadata": {},
     "outputs": []
    },
    {
     "cell_type": "heading",
     "level": 2,
     "metadata": {},
     "source": [
      "Assign integers to categorical data"
     ]
    },
    {
     "cell_type": "code",
     "collapsed": false,
     "input": [
      "# How to assign integers to categorical data\n",
      "def assign_number(numb):\n",
      "    \n",
      "    column1 = {}\n",
      "    column1 ['category_value1'] = 1\n",
      "    column1 ['category_value2'] = 2\n",
      "    column1 ['category_value3'] = 3\n",
      "    column1 ['category_value4'] = 4\n",
      "    \n",
      "    return poverty_level[numb]\n",
      "\n",
      "df['column2'] = df['column1'].map(assign_number)\n",
      "# column2 creates a new column for the new values\n",
      "# this can also be done in reverse to assign strings to numbers"
     ],
     "language": "python",
     "metadata": {},
     "outputs": [],
     "prompt_number": 3
    },
    {
     "cell_type": "heading",
     "level": 2,
     "metadata": {},
     "source": [
      "Converting values"
     ]
    },
    {
     "cell_type": "code",
     "collapsed": false,
     "input": [
      "# to get fahrenheit from celsius using map\n",
      "def get_fahrenheit(celsius):\n",
      "    return celsius * 1.8 + 32\n",
      "\n",
      "df['temp_f'] = df['temp_c'].map(get_fahrenheit)"
     ],
     "language": "python",
     "metadata": {},
     "outputs": []
    },
    {
     "cell_type": "code",
     "collapsed": false,
     "input": [],
     "language": "python",
     "metadata": {},
     "outputs": []
    },
    {
     "cell_type": "heading",
     "level": 2,
     "metadata": {},
     "source": [
      "Loading an Image"
     ]
    },
    {
     "cell_type": "code",
     "collapsed": false,
     "input": [
      "# example_pic.jpg needs to be in the right directory or directed to it\n",
      "Image(filename=\u2018example_pic.jpg\u2019)"
     ],
     "language": "python",
     "metadata": {},
     "outputs": []
    },
    {
     "cell_type": "heading",
     "level": 2,
     "metadata": {},
     "source": [
      "Sorting with Boolean"
     ]
    },
    {
     "cell_type": "code",
     "collapsed": false,
     "input": [
      "df [df.column == 1]\n",
      "df[(df.column1 == \u2018string\u2019) & (df.column2 > 500)]\n",
      "df[df.column1 == 'string']['column2'].mean() , count() , anything else that will analyze the data"
     ],
     "language": "python",
     "metadata": {},
     "outputs": []
    },
    {
     "cell_type": "code",
     "collapsed": false,
     "input": [
      "df[df.column1 == \"string1\"]['column2'].value_counts()"
     ],
     "language": "python",
     "metadata": {},
     "outputs": []
    },
    {
     "cell_type": "code",
     "collapsed": false,
     "input": [
      "# find individual categorical values percentage of category\n",
      "df.column1.value_counts / df.column1.count()"
     ],
     "language": "python",
     "metadata": {},
     "outputs": []
    },
    {
     "cell_type": "code",
     "collapsed": false,
     "input": [
      "# what percentage of category/feature are a specific categorical value grouped by another feature\n",
      "df[df.column1 == 'string']['column2'].value_counts() / df.column2.value_counts()"
     ],
     "language": "python",
     "metadata": {},
     "outputs": []
    },
    {
     "cell_type": "heading",
     "level": 2,
     "metadata": {},
     "source": [
      "Groupby"
     ]
    },
    {
     "cell_type": "code",
     "collapsed": false,
     "input": [
      "# How to groupby column and apply a function like sum, count, or mean\n",
      "df.groupby([\u2018column\u2019]).sum()"
     ],
     "language": "python",
     "metadata": {},
     "outputs": []
    },
    {
     "cell_type": "code",
     "collapsed": false,
     "input": [
      "# To groupby multiple columns with multiple functions attached\n",
      "df.groupby([\u2018column1\u2019, \u2018column2\u2019, \u2018column3\u2019]).agg([\u2018func1\u2019, \u2018func2\u2019])\n",
      "# grouped in order of which column is listed first"
     ],
     "language": "python",
     "metadata": {},
     "outputs": []
    },
    {
     "cell_type": "code",
     "collapsed": false,
     "input": [
      "# To view a specific column of values that\u2019s groupby\u2019ed another feature \n",
      "df.groupby([\u2018column1\u2019])[\u2018column2\u2019].sum()\n",
      "# column1 is what it is separated by and column2 is what column of values you are viewing"
     ],
     "language": "python",
     "metadata": {},
     "outputs": []
    },
    {
     "cell_type": "heading",
     "level": 2,
     "metadata": {},
     "source": [
      "Convert from Str to Date"
     ]
    },
    {
     "cell_type": "code",
     "collapsed": false,
     "input": [
      "# check to see if it is a str or pandas.tslib.Timestamp\n",
      "type(df.column_date[0])"
     ],
     "language": "python",
     "metadata": {},
     "outputs": []
    },
    {
     "cell_type": "code",
     "collapsed": false,
     "input": [
      "# convert to datetime\n",
      "df.column_date = pd.to_datetime(df.column_date)"
     ],
     "language": "python",
     "metadata": {},
     "outputs": []
    },
    {
     "cell_type": "code",
     "collapsed": false,
     "input": [
      "# shows all the date related options\n",
      "print dir(df.column_date[0])"
     ],
     "language": "python",
     "metadata": {},
     "outputs": []
    },
    {
     "cell_type": "code",
     "collapsed": false,
     "input": [
      "# Creat new columns\n",
      "# Get Day of week,date,time, from datetime stamp\n",
      "bike['daynum'] = bike.row_dt.map(lambda x: x.dayofweek)\n",
      "bike['row_date'] = bike.row_dt.map(lambda x: x.date())\n",
      "bike['row_time'] = bike.row_dt.map(lambda x: x.time())\n"
     ],
     "language": "python",
     "metadata": {},
     "outputs": []
    },
    {
     "cell_type": "heading",
     "level": 2,
     "metadata": {},
     "source": [
      "Aggregate data by days, weeks, months"
     ]
    },
    {
     "cell_type": "code",
     "collapsed": false,
     "input": [
      "# if you have a datetime stamp and you want to consolidate ex hours to days\n",
      "# How you aggregate data by days\n",
      "df_day = df[['column1', 'column2', 'column3']].resample('D', how=np.sum)\n",
      "# Example from bike share\n",
      "bike_day = bike[['casual', 'registered', 'rentals']].resample('D', how=np.sum)"
     ],
     "language": "python",
     "metadata": {},
     "outputs": [],
     "prompt_number": 0
    },
    {
     "cell_type": "heading",
     "level": 1,
     "metadata": {},
     "source": [
      "Plotting"
     ]
    },
    {
     "cell_type": "heading",
     "level": 2,
     "metadata": {},
     "source": [
      "Histograms"
     ]
    },
    {
     "cell_type": "code",
     "collapsed": false,
     "input": [
      "# how to make a histogram with a certain number of bins\n",
      "df.column.hist(bins = 20)"
     ],
     "language": "python",
     "metadata": {},
     "outputs": []
    },
    {
     "cell_type": "code",
     "collapsed": false,
     "input": [
      "# Histogram of feature 1 \n",
      "# split by another feature 2 (discrete variable)\n",
      "df.column1.hist(by = df.column2);\n",
      "\n",
      "# -example\n",
      "\n",
      "df.age.hist(by = df.gender);\n",
      "\n",
      "# - add a ';' at the end to remove documentation"
     ],
     "language": "python",
     "metadata": {},
     "outputs": []
    },
    {
     "cell_type": "code",
     "collapsed": false,
     "input": [
      "# How to fix the y or x axis for both graphs\n",
      "\n",
      "df.column1.hist(by = df.column2, sharey = True);\n",
      "# or\n",
      "df.column1.hist(by = df.column2, sharex = True);"
     ],
     "language": "python",
     "metadata": {},
     "outputs": []
    },
    {
     "cell_type": "heading",
     "level": 2,
     "metadata": {},
     "source": [
      "Boxplot"
     ]
    },
    {
     "cell_type": "code",
     "collapsed": false,
     "input": [
      "# how to make a boxplot\n",
      "df.boxplot([\u2018column1\u2019, \u2018column2\u2019, \u2018column3\u2019])\n",
      "# makes a boxplot based on the distribution of column 1"
     ],
     "language": "python",
     "metadata": {},
     "outputs": []
    },
    {
     "cell_type": "code",
     "collapsed": false,
     "input": [
      "# how to make a boxplot thats categorized into groups\n",
      "\n",
      "df.boxplot([\u2018column1\u2019], by = \u2018column2\u2019);\n",
      "\n",
      "# column1 is the value distribution\n",
      "# column2 is what the plots are separated by"
     ],
     "language": "python",
     "metadata": {},
     "outputs": []
    },
    {
     "cell_type": "heading",
     "level": 2,
     "metadata": {},
     "source": [
      "Scatter Matrix"
     ]
    },
    {
     "cell_type": "code",
     "collapsed": false,
     "input": [
      "from pandas.tools.plotting import scatter_matrix"
     ],
     "language": "python",
     "metadata": {},
     "outputs": []
    },
    {
     "cell_type": "code",
     "collapsed": false,
     "input": [
      "scatter_matrix(df[['column1', 'column2', 'column3', 'column4']], figsize (15, 15));"
     ],
     "language": "python",
     "metadata": {},
     "outputs": []
    },
    {
     "cell_type": "code",
     "collapsed": false,
     "input": [],
     "language": "python",
     "metadata": {},
     "outputs": []
    },
    {
     "cell_type": "code",
     "collapsed": false,
     "input": [],
     "language": "python",
     "metadata": {},
     "outputs": []
    },
    {
     "cell_type": "heading",
     "level": 2,
     "metadata": {},
     "source": [
      "Seaborn"
     ]
    },
    {
     "cell_type": "code",
     "collapsed": false,
     "input": [
      "# How to make blank grid plots with Seaborn\n",
      "\n",
      "sns.FacetGrid(df, row = \u2018column1\u2019, col = \u2018column2\u2019)\n",
      "\n",
      "# should be set to a variable \u2018grid_plot'\n",
      "\n",
      "# \u2018sns' is for sea born\n",
      "\n",
      "# column1 separates grids by row on feature1\n",
      "\n",
      "# column2 separates grids by column on feature2"
     ],
     "language": "python",
     "metadata": {},
     "outputs": []
    },
    {
     "cell_type": "heading",
     "level": 3,
     "metadata": {},
     "source": [
      "scatterplot with seaborn"
     ]
    },
    {
     "cell_type": "code",
     "collapsed": false,
     "input": [
      "# How to add plot points to the grid\n",
      "sns.FacetGrid(df, row = \u2018column1\u2019, col = \u2018column2\u2019).map(sns.regplot, \u2018column3\u2019, \u2018column4\u2019)\n",
      "\n",
      "# or if you set the gridplots to a variable\n",
      "\n",
      "grid_plot.map(sns.regplot, \u2018column1\u2019, \u2018column2\u2019) \n",
      "\n",
      "# column 3 is x axis values\n",
      "# column 4 is y axis values"
     ],
     "language": "python",
     "metadata": {},
     "outputs": []
    },
    {
     "cell_type": "code",
     "collapsed": false,
     "input": [
      "# In a grid scatter plot  how to control color darkness\n",
      "\n",
      "grid_plot.map(sns.regplot, \u2018column1\u2019, \u2018column2\u2019, color = \u2018.4\u2019)"
     ],
     "language": "python",
     "metadata": {},
     "outputs": []
    },
    {
     "cell_type": "code",
     "collapsed": false,
     "input": [
      "# In a grid scatter plot how to take away regression line\n",
      "\n",
      "grid_plot.map(sns.regplot, column1, column2, fit_reg = False)"
     ],
     "language": "python",
     "metadata": {},
     "outputs": []
    },
    {
     "cell_type": "code",
     "collapsed": false,
     "input": [
      "# How to spread plot points on a scatter plot for when they have the same value\n",
      "\n",
      "grid_plot.map(sns.regplot, \u2018column1\u2019, \u2018column2\u2019, x_jitter = \u2018.1\u2019)"
     ],
     "language": "python",
     "metadata": {},
     "outputs": []
    },
    {
     "cell_type": "heading",
     "level": 3,
     "metadata": {},
     "source": [
      "boxplot with seaborn"
     ]
    },
    {
     "cell_type": "code",
     "collapsed": false,
     "input": [
      "# how to make a boxplot with seaborn\n",
      "sns.boxplot(df.column1);"
     ],
     "language": "python",
     "metadata": {},
     "outputs": []
    },
    {
     "cell_type": "code",
     "collapsed": false,
     "input": [
      "# how to groupby with a boxplot with sea born\n",
      "sns.boxplot(df.column1, groupby = df.column2)"
     ],
     "language": "python",
     "metadata": {},
     "outputs": []
    },
    {
     "cell_type": "code",
     "collapsed": false,
     "input": [
      "# How to make a title for a plot with seaborn\n",
      "sns.boxplot(df.column1, groupby = df.column2).set_title(\u2018whatever you name it\u2019)"
     ],
     "language": "python",
     "metadata": {},
     "outputs": []
    },
    {
     "cell_type": "code",
     "collapsed": false,
     "input": [],
     "language": "python",
     "metadata": {},
     "outputs": []
    },
    {
     "cell_type": "code",
     "collapsed": false,
     "input": [],
     "language": "python",
     "metadata": {},
     "outputs": []
    },
    {
     "cell_type": "heading",
     "level": 2,
     "metadata": {},
     "source": [
      "Sorting Data Frame"
     ]
    },
    {
     "cell_type": "code",
     "collapsed": false,
     "input": [
      "# How to sort data frame\n",
      "df.sort_index(by = \u2018column1\u2019, ascending = False)"
     ],
     "language": "python",
     "metadata": {},
     "outputs": []
    },
    {
     "cell_type": "code",
     "collapsed": false,
     "input": [
      "# How to locate rows of some feature's highest or lowest values\n",
      "df.sort(columns = 'column1').iloc[-5:]"
     ],
     "language": "python",
     "metadata": {},
     "outputs": []
    },
    {
     "cell_type": "code",
     "collapsed": false,
     "input": [],
     "language": "python",
     "metadata": {},
     "outputs": []
    },
    {
     "cell_type": "heading",
     "level": 2,
     "metadata": {},
     "source": [
      "Indexing"
     ]
    },
    {
     "cell_type": "code",
     "collapsed": false,
     "input": [
      "# it's faster to get rows by indexing \n",
      "# this is an example of setting the datetime column as the index\n",
      "df.set_index(['column_date'], inplace=True)"
     ],
     "language": "python",
     "metadata": {},
     "outputs": []
    },
    {
     "cell_type": "code",
     "collapsed": false,
     "input": [],
     "language": "python",
     "metadata": {},
     "outputs": []
    },
    {
     "cell_type": "heading",
     "level": 2,
     "metadata": {},
     "source": [
      "Deleting"
     ]
    },
    {
     "cell_type": "code",
     "collapsed": false,
     "input": [
      "# Delete Statement\n",
      "# del df['column']\n",
      "\n",
      "# Or as df.drop method\n",
      "df.drop('column', axis=1, inplace=True)  # Axis 0 is rows, Axis 1 is columns"
     ],
     "language": "python",
     "metadata": {},
     "outputs": []
    },
    {
     "cell_type": "code",
     "collapsed": false,
     "input": [],
     "language": "python",
     "metadata": {},
     "outputs": []
    },
    {
     "cell_type": "code",
     "collapsed": false,
     "input": [],
     "language": "python",
     "metadata": {},
     "outputs": []
    },
    {
     "cell_type": "heading",
     "level": 1,
     "metadata": {},
     "source": [
      "Lab 3"
     ]
    },
    {
     "cell_type": "heading",
     "level": 2,
     "metadata": {},
     "source": [
      "Replacing characters"
     ]
    },
    {
     "cell_type": "code",
     "collapsed": false,
     "input": [
      "# In this case removing commas from a string and converting it to an integer\n",
      "for i in ['column1', 'column2', 'column3', 'column4']:\n",
      "    df[i] = df[i].map(lambda x: x.replace(',', '')).astype(int)"
     ],
     "language": "python",
     "metadata": {},
     "outputs": []
    },
    {
     "cell_type": "heading",
     "level": 2,
     "metadata": {},
     "source": [
      "Merging\n"
     ]
    },
    {
     "cell_type": "code",
     "collapsed": false,
     "input": [
      "df = df.merge(df2)"
     ],
     "language": "python",
     "metadata": {},
     "outputs": []
    },
    {
     "cell_type": "code",
     "collapsed": false,
     "input": [
      "# How to apply values from another column, only in the rows where the value is larger than the other\n",
      "pres_2004['Bush_votes'] = (pres_2004['Bush'] > pres_2004['Kerry'] * pres_2004['Electoral Votes'])\n",
      "pres_2004['Kerry_votes'] = (pres_2004['Kerry'] > pres_2004['Bush'] * pres_2004['Electoral Votes'])"
     ],
     "language": "python",
     "metadata": {},
     "outputs": []
    },
    {
     "cell_type": "heading",
     "level": 2,
     "metadata": {},
     "source": [
      "numpy"
     ]
    },
    {
     "cell_type": "code",
     "collapsed": false,
     "input": [
      "pd.Series([1,2,3])"
     ],
     "language": "python",
     "metadata": {},
     "outputs": [
      {
       "metadata": {},
       "output_type": "pyout",
       "prompt_number": 18,
       "text": [
        "0    1\n",
        "1    2\n",
        "2    3\n",
        "dtype: int64"
       ]
      }
     ],
     "prompt_number": 18
    },
    {
     "cell_type": "heading",
     "level": 4,
     "metadata": {},
     "source": [
      "pandas internally are numpy arrays"
     ]
    },
    {
     "cell_type": "code",
     "collapsed": false,
     "input": [
      "np.array([1,2,3])"
     ],
     "language": "python",
     "metadata": {},
     "outputs": [
      {
       "metadata": {},
       "output_type": "pyout",
       "prompt_number": 20,
       "text": [
        "array([1, 2, 3])"
       ]
      }
     ],
     "prompt_number": 20
    },
    {
     "cell_type": "code",
     "collapsed": false,
     "input": [
      "pd.Series([1,2,3]).values"
     ],
     "language": "python",
     "metadata": {},
     "outputs": [
      {
       "metadata": {},
       "output_type": "pyout",
       "prompt_number": 26,
       "text": [
        "array([1, 2, 3])"
       ]
      }
     ],
     "prompt_number": 26
    },
    {
     "cell_type": "code",
     "collapsed": false,
     "input": [
      "arr = np.array([1,2,3])\n",
      "arr != 2"
     ],
     "language": "python",
     "metadata": {},
     "outputs": [
      {
       "metadata": {},
       "output_type": "pyout",
       "prompt_number": 27,
       "text": [
        "array([ True, False,  True], dtype=bool)"
       ]
      }
     ],
     "prompt_number": 27
    },
    {
     "cell_type": "code",
     "collapsed": false,
     "input": [],
     "language": "python",
     "metadata": {},
     "outputs": []
    },
    {
     "cell_type": "code",
     "collapsed": false,
     "input": [],
     "language": "python",
     "metadata": {},
     "outputs": []
    },
    {
     "cell_type": "code",
     "collapsed": false,
     "input": [],
     "language": "python",
     "metadata": {},
     "outputs": []
    },
    {
     "cell_type": "code",
     "collapsed": false,
     "input": [],
     "language": "python",
     "metadata": {},
     "outputs": []
    },
    {
     "cell_type": "heading",
     "level": 2,
     "metadata": {},
     "source": [
      "Create train and test set"
     ]
    },
    {
     "cell_type": "code",
     "collapsed": false,
     "input": [
      "from sklearn.cross_validation import train_test_split"
     ],
     "language": "python",
     "metadata": {},
     "outputs": []
    },
    {
     "cell_type": "code",
     "collapsed": false,
     "input": [
      "X_train, X_test, Y_train, Y_test = train_test_split(X, Y, test_size = 0.2)"
     ],
     "language": "python",
     "metadata": {},
     "outputs": []
    }
   ],
   "metadata": {}
  }
 ]
}