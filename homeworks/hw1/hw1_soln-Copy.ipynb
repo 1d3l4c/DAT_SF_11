{
 "metadata": {
  "name": "",
  "signature": "sha256:4e784da33aedc35bb905e8888a13216757093749acdca590d38aa6d48f1a187d"
 },
 "nbformat": 3,
 "nbformat_minor": 0,
 "worksheets": [
  {
   "cells": [
    {
     "cell_type": "markdown",
     "metadata": {},
     "source": [
      "#Homework 1 - Data Analysis and Regression\n",
      "In this assignment your challenge is to do some basic analysis for Airbnb. Provided in hw/data/ there are 2 data files, <a href=../data/bookings.csv>bookings.csv</a> and <a href=../data/listings.csv>listings.csv</a>. The objective is to practice data munging and begin our exploration of regression."
     ]
    },
    {
     "cell_type": "code",
     "collapsed": false,
     "input": [
      "import pandas as pd\n",
      "import numpy as np\n",
      "import seaborn as sns\n",
      "import matplotlib.pyplot as plt\n",
      "%matplotlib inline"
     ],
     "language": "python",
     "metadata": {},
     "outputs": [],
     "prompt_number": 25
    },
    {
     "cell_type": "code",
     "collapsed": false,
     "input": [
      "pd.set_option('display.max_row', 10)\n",
      "pd.set_option('display.precision', 3)"
     ],
     "language": "python",
     "metadata": {},
     "outputs": [],
     "prompt_number": 26
    },
    {
     "cell_type": "markdown",
     "metadata": {},
     "source": [
      "##Part 1 - Data exploration\n",
      "###First, create 2 data frames: `listings` and `bookings` from their respective data files"
     ]
    },
    {
     "cell_type": "code",
     "collapsed": false,
     "input": [
      "bookings = pd.read_csv('../data/bookings.csv', parse_dates = True)"
     ],
     "language": "python",
     "metadata": {},
     "outputs": [],
     "prompt_number": 27
    },
    {
     "cell_type": "code",
     "collapsed": false,
     "input": [
      "listings = pd.read_csv('../data/listings.csv')"
     ],
     "language": "python",
     "metadata": {},
     "outputs": [],
     "prompt_number": 28
    },
    {
     "cell_type": "code",
     "collapsed": false,
     "input": [
      "bookings"
     ],
     "language": "python",
     "metadata": {},
     "outputs": []
    },
    {
     "cell_type": "code",
     "collapsed": false,
     "input": [
      "merged = listings.merge(bookings, on = 'prop_id')"
     ],
     "language": "python",
     "metadata": {},
     "outputs": [],
     "prompt_number": 49
    },
    {
     "cell_type": "code",
     "collapsed": false,
     "input": [
      "values_per_neighborhood = listings.neighborhood.value_counts()"
     ],
     "language": "python",
     "metadata": {},
     "outputs": [],
     "prompt_number": 31
    },
    {
     "cell_type": "code",
     "collapsed": false,
     "input": [
      "[listings.neighborhood.value_counts() > 5]"
     ],
     "language": "python",
     "metadata": {},
     "outputs": []
    },
    {
     "cell_type": "code",
     "collapsed": false,
     "input": [
      "type(precentage_by_neighborhood)"
     ],
     "language": "python",
     "metadata": {},
     "outputs": [
      {
       "metadata": {},
       "output_type": "pyout",
       "prompt_number": 33,
       "text": [
        "pandas.core.series.Series"
       ]
      }
     ],
     "prompt_number": 33
    },
    {
     "cell_type": "code",
     "collapsed": false,
     "input": [
      "# how do i sort this???\n",
      "# for a series, use .order()\n",
      "prop_type_1_by_neighborhood= listings.neighborhood[listings.prop_type == 'Property type 1'].value_counts()\n",
      "total_types_by_neighborhood = listings.neighborhood.value_counts()\n",
      "precentage_by_neighborhood = prop_type_1_by_neighborhood / total_types_by_neighborhood\n",
      "precentage_by_neighborhood.order(ascending = False).plot(kind = 'bar');"
     ],
     "language": "python",
     "metadata": {},
     "outputs": [
      {
       "metadata": {},
       "output_type": "display_data",
       "png": "[encoded data removed]",
       "text": [
        "<matplotlib.figure.Figure at 0x10a68ad50>"
       ]
      }
     ],
     "prompt_number": 51
    },
    {
     "cell_type": "code",
     "collapsed": false,
     "input": [
      "(listings.neighborhood.value_counts()/ listings.neighborhood.count()).plot(kind = 'bar');"
     ],
     "language": "python",
     "metadata": {},
     "outputs": [
      {
       "metadata": {},
       "output_type": "display_data",
       "png": "[encoded data removed]",
       "text": [
        "<matplotlib.figure.Figure at 0x10ad24c90>"
       ]
      }
     ],
     "prompt_number": 35
    },
    {
     "cell_type": "code",
     "collapsed": false,
     "input": [],
     "language": "python",
     "metadata": {},
     "outputs": [],
     "prompt_number": 35
    },
    {
     "cell_type": "markdown",
     "metadata": {},
     "source": [
      "###What is the mean, median and standard deviation of price, person capacity, picture count, description length and tenure of the properties?"
     ]
    },
    {
     "cell_type": "code",
     "collapsed": false,
     "input": [
      "listings[['price', 'person_capacity',\n",
      "          'picture_count', 'description_length',\n",
      "          'tenure_months']].describe().loc[['mean', 'median', 'std']]"
     ],
     "language": "python",
     "metadata": {},
     "outputs": [
      {
       "html": [
        "<div style=\"max-height:1000px;max-width:1500px;overflow:auto;\">\n",
        "<table border=\"1\" class=\"dataframe\">\n",
        "  <thead>\n",
        "    <tr style=\"text-align: right;\">\n",
        "      <th></th>\n",
        "      <th>price</th>\n",
        "      <th>person_capacity</th>\n",
        "      <th>picture_count</th>\n",
        "      <th>description_length</th>\n",
        "      <th>tenure_months</th>\n",
        "    </tr>\n",
        "  </thead>\n",
        "  <tbody>\n",
        "    <tr>\n",
        "      <th>mean</th>\n",
        "      <td> 187.81</td>\n",
        "      <td> 3.00</td>\n",
        "      <td> 14.39</td>\n",
        "      <td> 309.16</td>\n",
        "      <td> 8.49</td>\n",
        "    </tr>\n",
        "    <tr>\n",
        "      <th>median</th>\n",
        "      <td>    NaN</td>\n",
        "      <td>  NaN</td>\n",
        "      <td>   NaN</td>\n",
        "      <td>    NaN</td>\n",
        "      <td>  NaN</td>\n",
        "    </tr>\n",
        "    <tr>\n",
        "      <th>std</th>\n",
        "      <td> 353.05</td>\n",
        "      <td> 1.59</td>\n",
        "      <td> 10.48</td>\n",
        "      <td> 228.02</td>\n",
        "      <td> 5.87</td>\n",
        "    </tr>\n",
        "  </tbody>\n",
        "</table>\n",
        "</div>"
       ],
       "metadata": {},
       "output_type": "pyout",
       "prompt_number": 66,
       "text": [
        "         price  person_capacity  picture_count  description_length  \\\n",
        "mean    187.81             3.00          14.39              309.16   \n",
        "median     NaN              NaN            NaN                 NaN   \n",
        "std     353.05             1.59          10.48              228.02   \n",
        "\n",
        "        tenure_months  \n",
        "mean             8.49  \n",
        "median            NaN  \n",
        "std              5.87  "
       ]
      }
     ],
     "prompt_number": 66
    },
    {
     "cell_type": "code",
     "collapsed": false,
     "input": [],
     "language": "python",
     "metadata": {},
     "outputs": [],
     "prompt_number": 36
    },
    {
     "cell_type": "markdown",
     "metadata": {},
     "source": [
      "###What what are the mean price, person capacity, picture count, description length and tenure of the properties grouped by property type?"
     ]
    },
    {
     "cell_type": "code",
     "collapsed": false,
     "input": [
      "listings.groupby('prop_type')['price',\n",
      "                              'person_capacity', 'picture_count',\n",
      "                              'description_length', 'tenure_months'].mean()"
     ],
     "language": "python",
     "metadata": {},
     "outputs": [
      {
       "html": [
        "<div style=\"max-height:1000px;max-width:1500px;overflow:auto;\">\n",
        "<table border=\"1\" class=\"dataframe\">\n",
        "  <thead>\n",
        "    <tr style=\"text-align: right;\">\n",
        "      <th></th>\n",
        "      <th>price</th>\n",
        "      <th>person_capacity</th>\n",
        "      <th>picture_count</th>\n",
        "      <th>description_length</th>\n",
        "      <th>tenure_months</th>\n",
        "    </tr>\n",
        "    <tr>\n",
        "      <th>prop_type</th>\n",
        "      <th></th>\n",
        "      <th></th>\n",
        "      <th></th>\n",
        "      <th></th>\n",
        "      <th></th>\n",
        "    </tr>\n",
        "  </thead>\n",
        "  <tbody>\n",
        "    <tr>\n",
        "      <th>Property type 1</th>\n",
        "      <td> 237.09</td>\n",
        "      <td> 3.52</td>\n",
        "      <td> 14.70</td>\n",
        "      <td> 313.17</td>\n",
        "      <td>  8.46</td>\n",
        "    </tr>\n",
        "    <tr>\n",
        "      <th>Property type 2</th>\n",
        "      <td>  93.29</td>\n",
        "      <td> 2.00</td>\n",
        "      <td> 13.95</td>\n",
        "      <td> 304.85</td>\n",
        "      <td>  8.38</td>\n",
        "    </tr>\n",
        "    <tr>\n",
        "      <th>Property type 3</th>\n",
        "      <td>  63.75</td>\n",
        "      <td> 1.75</td>\n",
        "      <td>  8.75</td>\n",
        "      <td> 184.75</td>\n",
        "      <td> 13.75</td>\n",
        "    </tr>\n",
        "  </tbody>\n",
        "</table>\n",
        "</div>"
       ],
       "metadata": {},
       "output_type": "pyout",
       "prompt_number": 37,
       "text": [
        "                  price  person_capacity  picture_count  description_length  \\\n",
        "prop_type                                                                     \n",
        "Property type 1  237.09             3.52          14.70              313.17   \n",
        "Property type 2   93.29             2.00          13.95              304.85   \n",
        "Property type 3   63.75             1.75           8.75              184.75   \n",
        "\n",
        "                 tenure_months  \n",
        "prop_type                       \n",
        "Property type 1           8.46  \n",
        "Property type 2           8.38  \n",
        "Property type 3          13.75  "
       ]
      }
     ],
     "prompt_number": 37
    },
    {
     "cell_type": "markdown",
     "metadata": {},
     "source": [
      "###Same, but by property type per neighborhood? "
     ]
    },
    {
     "cell_type": "code",
     "collapsed": false,
     "input": [
      "listings.groupby(['neighborhood', 'prop_type'])['price', 'person_capacity', 'picture_count', 'description_length', 'tenure_months'].mean()"
     ],
     "language": "python",
     "metadata": {},
     "outputs": [
      {
       "html": [
        "<div style=\"max-height:1000px;max-width:1500px;overflow:auto;\">\n",
        "<table border=\"1\" class=\"dataframe\">\n",
        "  <thead>\n",
        "    <tr style=\"text-align: right;\">\n",
        "      <th></th>\n",
        "      <th></th>\n",
        "      <th>price</th>\n",
        "      <th>person_capacity</th>\n",
        "      <th>picture_count</th>\n",
        "      <th>description_length</th>\n",
        "      <th>tenure_months</th>\n",
        "    </tr>\n",
        "    <tr>\n",
        "      <th>neighborhood</th>\n",
        "      <th>prop_type</th>\n",
        "      <th></th>\n",
        "      <th></th>\n",
        "      <th></th>\n",
        "      <th></th>\n",
        "      <th></th>\n",
        "    </tr>\n",
        "  </thead>\n",
        "  <tbody>\n",
        "    <tr>\n",
        "      <th>Neighborhood 1</th>\n",
        "      <th>Property type 1</th>\n",
        "      <td>  85.00</td>\n",
        "      <td> 2.00</td>\n",
        "      <td> 26.00</td>\n",
        "      <td> 209.00</td>\n",
        "      <td>  6.00</td>\n",
        "    </tr>\n",
        "    <tr>\n",
        "      <th rowspan=\"2\" valign=\"top\">Neighborhood 10</th>\n",
        "      <th>Property type 1</th>\n",
        "      <td> 142.50</td>\n",
        "      <td> 3.50</td>\n",
        "      <td> 13.33</td>\n",
        "      <td> 391.00</td>\n",
        "      <td>  3.83</td>\n",
        "    </tr>\n",
        "    <tr>\n",
        "      <th>Property type 2</th>\n",
        "      <td> 137.50</td>\n",
        "      <td> 2.00</td>\n",
        "      <td> 20.00</td>\n",
        "      <td> 126.00</td>\n",
        "      <td>  3.50</td>\n",
        "    </tr>\n",
        "    <tr>\n",
        "      <th rowspan=\"2\" valign=\"top\">Neighborhood 11</th>\n",
        "      <th>Property type 1</th>\n",
        "      <td> 159.43</td>\n",
        "      <td> 3.21</td>\n",
        "      <td>  9.93</td>\n",
        "      <td> 379.00</td>\n",
        "      <td>  9.64</td>\n",
        "    </tr>\n",
        "    <tr>\n",
        "      <th>Property type 2</th>\n",
        "      <td>  78.75</td>\n",
        "      <td> 2.00</td>\n",
        "      <td> 16.75</td>\n",
        "      <td> 161.25</td>\n",
        "      <td> 11.25</td>\n",
        "    </tr>\n",
        "    <tr>\n",
        "      <th>...</th>\n",
        "      <th>...</th>\n",
        "      <td>...</td>\n",
        "      <td>...</td>\n",
        "      <td>...</td>\n",
        "      <td>...</td>\n",
        "      <td>...</td>\n",
        "    </tr>\n",
        "    <tr>\n",
        "      <th>Neighborhood 7</th>\n",
        "      <th>Property type 2</th>\n",
        "      <td> 100.00</td>\n",
        "      <td> 2.00</td>\n",
        "      <td>  3.00</td>\n",
        "      <td> 148.00</td>\n",
        "      <td>  2.00</td>\n",
        "    </tr>\n",
        "    <tr>\n",
        "      <th rowspan=\"2\" valign=\"top\">Neighborhood 8</th>\n",
        "      <th>Property type 1</th>\n",
        "      <td> 174.75</td>\n",
        "      <td> 5.00</td>\n",
        "      <td> 11.00</td>\n",
        "      <td> 300.00</td>\n",
        "      <td>  6.75</td>\n",
        "    </tr>\n",
        "    <tr>\n",
        "      <th>Property type 2</th>\n",
        "      <td> 350.00</td>\n",
        "      <td> 4.00</td>\n",
        "      <td>  5.00</td>\n",
        "      <td> 223.00</td>\n",
        "      <td>  3.00</td>\n",
        "    </tr>\n",
        "    <tr>\n",
        "      <th rowspan=\"2\" valign=\"top\">Neighborhood 9</th>\n",
        "      <th>Property type 1</th>\n",
        "      <td> 151.14</td>\n",
        "      <td> 4.29</td>\n",
        "      <td> 13.43</td>\n",
        "      <td> 471.43</td>\n",
        "      <td>  5.71</td>\n",
        "    </tr>\n",
        "    <tr>\n",
        "      <th>Property type 2</th>\n",
        "      <td> 110.00</td>\n",
        "      <td> 2.00</td>\n",
        "      <td>  3.50</td>\n",
        "      <td> 114.50</td>\n",
        "      <td>  9.00</td>\n",
        "    </tr>\n",
        "  </tbody>\n",
        "</table>\n",
        "<p>40 rows \u00d7 5 columns</p>\n",
        "</div>"
       ],
       "metadata": {},
       "output_type": "pyout",
       "prompt_number": 38,
       "text": [
        "                                  price  person_capacity  picture_count  \\\n",
        "neighborhood    prop_type                                                 \n",
        "Neighborhood 1  Property type 1   85.00             2.00          26.00   \n",
        "Neighborhood 10 Property type 1  142.50             3.50          13.33   \n",
        "                Property type 2  137.50             2.00          20.00   \n",
        "Neighborhood 11 Property type 1  159.43             3.21           9.93   \n",
        "                Property type 2   78.75             2.00          16.75   \n",
        "...                                 ...              ...            ...   \n",
        "Neighborhood 7  Property type 2  100.00             2.00           3.00   \n",
        "Neighborhood 8  Property type 1  174.75             5.00          11.00   \n",
        "                Property type 2  350.00             4.00           5.00   \n",
        "Neighborhood 9  Property type 1  151.14             4.29          13.43   \n",
        "                Property type 2  110.00             2.00           3.50   \n",
        "\n",
        "                                 description_length  tenure_months  \n",
        "neighborhood    prop_type                                           \n",
        "Neighborhood 1  Property type 1              209.00           6.00  \n",
        "Neighborhood 10 Property type 1              391.00           3.83  \n",
        "                Property type 2              126.00           3.50  \n",
        "Neighborhood 11 Property type 1              379.00           9.64  \n",
        "                Property type 2              161.25          11.25  \n",
        "...                                             ...            ...  \n",
        "Neighborhood 7  Property type 2              148.00           2.00  \n",
        "Neighborhood 8  Property type 1              300.00           6.75  \n",
        "                Property type 2              223.00           3.00  \n",
        "Neighborhood 9  Property type 1              471.43           5.71  \n",
        "                Property type 2              114.50           9.00  \n",
        "\n",
        "[40 rows x 5 columns]"
       ]
      }
     ],
     "prompt_number": 38
    },
    {
     "cell_type": "markdown",
     "metadata": {},
     "source": [
      "###Plot daily bookings:"
     ]
    },
    {
     "cell_type": "code",
     "collapsed": false,
     "input": [
      "type(bookings.booking_date[4])"
     ],
     "language": "python",
     "metadata": {},
     "outputs": [
      {
       "metadata": {},
       "output_type": "pyout",
       "prompt_number": 39,
       "text": [
        "str"
       ]
      }
     ],
     "prompt_number": 39
    },
    {
     "cell_type": "code",
     "collapsed": false,
     "input": [
      "bookings.booking_date = pd.to_datetime(bookings.booking_date)"
     ],
     "language": "python",
     "metadata": {},
     "outputs": [],
     "prompt_number": 40
    },
    {
     "cell_type": "code",
     "collapsed": false,
     "input": [
      "bookings['day_of_week'] = bookings.booking_date.map(lambda x: x.dayofweek)"
     ],
     "language": "python",
     "metadata": {},
     "outputs": [],
     "prompt_number": 41
    },
    {
     "cell_type": "code",
     "collapsed": false,
     "input": [],
     "language": "python",
     "metadata": {},
     "outputs": [],
     "prompt_number": 41
    },
    {
     "cell_type": "markdown",
     "metadata": {},
     "source": [
      "###Plot the daily bookings per neighborhood (provide a legend)"
     ]
    },
    {
     "cell_type": "code",
     "collapsed": false,
     "input": [
      "def day(x):\n",
      "    day_of_week = {}\n",
      "    day_of_week[0] = 'Mon'\n",
      "    day_of_week[1] = 'Tues'\n",
      "    day_of_week[2] = 'Wed'\n",
      "    day_of_week[3] = 'Thurs'\n",
      "    day_of_week[4] = 'Fri'\n",
      "    day_of_week[5] = 'Sat'\n",
      "    day_of_week[6] = 'Sun'\n",
      "    return day_of_week[x]\n",
      "\n",
      "bookings['day_name'] = bookings['day_of_week'].map(day)\n",
      "\n",
      "    "
     ],
     "language": "python",
     "metadata": {},
     "outputs": [],
     "prompt_number": 42
    },
    {
     "cell_type": "code",
     "collapsed": false,
     "input": [
      "listings.groupby(['neighborhood'])."
     ],
     "language": "python",
     "metadata": {},
     "outputs": [
      {
       "metadata": {},
       "output_type": "pyout",
       "prompt_number": 45,
       "text": [
        "<pandas.core.groupby.DataFrameGroupBy object at 0x102a0a810>"
       ]
      }
     ],
     "prompt_number": 45
    },
    {
     "cell_type": "code",
     "collapsed": false,
     "input": [
      "bookings.head()"
     ],
     "language": "python",
     "metadata": {},
     "outputs": [
      {
       "html": [
        "<div style=\"max-height:1000px;max-width:1500px;overflow:auto;\">\n",
        "<table border=\"1\" class=\"dataframe\">\n",
        "  <thead>\n",
        "    <tr style=\"text-align: right;\">\n",
        "      <th></th>\n",
        "      <th>prop_id</th>\n",
        "      <th>booking_date</th>\n",
        "      <th>day_of_week</th>\n",
        "    </tr>\n",
        "  </thead>\n",
        "  <tbody>\n",
        "    <tr>\n",
        "      <th>0</th>\n",
        "      <td>  9</td>\n",
        "      <td>2011-06-17</td>\n",
        "      <td> 4</td>\n",
        "    </tr>\n",
        "    <tr>\n",
        "      <th>1</th>\n",
        "      <td> 13</td>\n",
        "      <td>2011-08-12</td>\n",
        "      <td> 4</td>\n",
        "    </tr>\n",
        "    <tr>\n",
        "      <th>2</th>\n",
        "      <td> 21</td>\n",
        "      <td>2011-06-20</td>\n",
        "      <td> 0</td>\n",
        "    </tr>\n",
        "    <tr>\n",
        "      <th>3</th>\n",
        "      <td> 28</td>\n",
        "      <td>2011-05-05</td>\n",
        "      <td> 3</td>\n",
        "    </tr>\n",
        "    <tr>\n",
        "      <th>4</th>\n",
        "      <td> 29</td>\n",
        "      <td>2011-11-17</td>\n",
        "      <td> 3</td>\n",
        "    </tr>\n",
        "  </tbody>\n",
        "</table>\n",
        "</div>"
       ],
       "metadata": {},
       "output_type": "pyout",
       "prompt_number": 88,
       "text": [
        "   prop_id booking_date  day_of_week\n",
        "0        9   2011-06-17            4\n",
        "1       13   2011-08-12            4\n",
        "2       21   2011-06-20            0\n",
        "3       28   2011-05-05            3\n",
        "4       29   2011-11-17            3"
       ]
      }
     ],
     "prompt_number": 88
    },
    {
     "cell_type": "markdown",
     "metadata": {},
     "source": [
      "##Part 2 - Develop a data set"
     ]
    },
    {
     "cell_type": "code",
     "collapsed": false,
     "input": [],
     "language": "python",
     "metadata": {},
     "outputs": []
    },
    {
     "cell_type": "markdown",
     "metadata": {},
     "source": [
      "###Add the columns `number_of_bookings` and `booking_rate` (number_of_bookings/tenure_months) to your `listings` data frame"
     ]
    },
    {
     "cell_type": "code",
     "collapsed": false,
     "input": [],
     "language": "python",
     "metadata": {},
     "outputs": []
    },
    {
     "cell_type": "markdown",
     "metadata": {},
     "source": [
      "###We only want to analyze well established properties, so let's filter out any properties that have a tenure less than 10 months "
     ]
    },
    {
     "cell_type": "code",
     "collapsed": false,
     "input": [],
     "language": "python",
     "metadata": {},
     "outputs": []
    },
    {
     "cell_type": "markdown",
     "metadata": {},
     "source": [
      "###`prop_type` and `neighborhood` are categorical variables, use `get_dummies()` (http://pandas.pydata.org/pandas-docs/stable/generated/pandas.core.reshape.get_dummies.html) to transform this column of categorical data to many columns of boolean values (after applying this function correctly there should be 1 column for every prop_type and 1 column for every neighborhood category."
     ]
    },
    {
     "cell_type": "code",
     "collapsed": false,
     "input": [],
     "language": "python",
     "metadata": {},
     "outputs": []
    },
    {
     "cell_type": "markdown",
     "metadata": {},
     "source": [
      "###create test and training sets for your regressors and predictors\n",
      "predictor (y) is `booking_rate`, regressors (X) are everything else, except `prop_id`,`booking_rate`,`prop_type`,`neighborhood` and `number_of_bookings`<br>\n",
      "http://scikit-learn.org/stable/modules/generated/sklearn.cross_validation.train_test_split.html<br>\n",
      "http://pandas.pydata.org/pandas-docs/stable/basics.html#dropping-labels-from-an-axis"
     ]
    },
    {
     "cell_type": "code",
     "collapsed": false,
     "input": [
      "from sklearn.cross_validation import train_test_split"
     ],
     "language": "python",
     "metadata": {},
     "outputs": []
    },
    {
     "cell_type": "code",
     "collapsed": false,
     "input": [],
     "language": "python",
     "metadata": {},
     "outputs": []
    },
    {
     "cell_type": "markdown",
     "metadata": {},
     "source": [
      "##Part 3 - Model `booking_rate`"
     ]
    },
    {
     "cell_type": "markdown",
     "metadata": {},
     "source": [
      "###Create a linear regression model of your listings"
     ]
    },
    {
     "cell_type": "code",
     "collapsed": false,
     "input": [
      "from sklearn.linear_model import LinearRegression\n",
      "lr = LinearRegression()"
     ],
     "language": "python",
     "metadata": {},
     "outputs": []
    },
    {
     "cell_type": "markdown",
     "metadata": {},
     "source": [
      "###fit your model with your test sets"
     ]
    },
    {
     "cell_type": "code",
     "collapsed": false,
     "input": [],
     "language": "python",
     "metadata": {},
     "outputs": []
    },
    {
     "cell_type": "markdown",
     "metadata": {},
     "source": [
      "###report the score\n",
      "http://scikit-learn.org/stable/modules/generated/sklearn.linear_model.LinearRegression.html#sklearn.linear_model.LinearRegression.score"
     ]
    },
    {
     "cell_type": "code",
     "collapsed": false,
     "input": [],
     "language": "python",
     "metadata": {},
     "outputs": []
    },
    {
     "cell_type": "markdown",
     "metadata": {},
     "source": [
      "###Interpret the results of the above model:\n",
      "* What does the `score` method do?\n",
      "* What does this tell us about our model?"
     ]
    },
    {
     "cell_type": "markdown",
     "metadata": {},
     "source": [
      "...type here..."
     ]
    },
    {
     "cell_type": "markdown",
     "metadata": {},
     "source": [
      "##Optional - Iterate\n",
      "Create an alternative predictor (e.g. monthly revenue) and use the same modeling pattern in Part 3 to  "
     ]
    },
    {
     "cell_type": "code",
     "collapsed": false,
     "input": [],
     "language": "python",
     "metadata": {},
     "outputs": []
    }
   ],
   "metadata": {}
  }
 ]
}