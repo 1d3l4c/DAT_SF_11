{
 "metadata": {
  "name": "",
  "signature": "sha256:37025203c9621af029734314f5dd4c007872d71b356722ea3534e8a82bd88d53"
 },
 "nbformat": 3,
 "nbformat_minor": 0,
 "worksheets": [
  {
   "cells": [
    {
     "cell_type": "code",
     "collapsed": false,
     "input": [
      "import pandas as pd\n",
      "import numpy as np\n",
      "import seaborn as sns\n",
      "import matplotlib.pyplot as plt\n",
      "from pprint import pprint\n",
      "from pandas.tools.plotting import scatter_matrix\n",
      "% matplotlib inline\n",
      "\n"
     ],
     "language": "python",
     "metadata": {},
     "outputs": [],
     "prompt_number": 87
    },
    {
     "cell_type": "code",
     "collapsed": false,
     "input": [
      "pd.set_option('display.precision', 3)\n",
      "pd.set_option('display.max_columns', None)"
     ],
     "language": "python",
     "metadata": {},
     "outputs": [],
     "prompt_number": 88
    },
    {
     "cell_type": "code",
     "collapsed": false,
     "input": [
      "df = pd.read_csv('../data/kaggle_bike_train.csv', parse_dates = True)\n",
      "df_test = pd.read_csv('../data/test.csv', parse_dates = True)"
     ],
     "language": "python",
     "metadata": {},
     "outputs": [],
     "prompt_number": 89
    },
    {
     "cell_type": "code",
     "collapsed": false,
     "input": [
      "df.head()"
     ],
     "language": "python",
     "metadata": {},
     "outputs": [
      {
       "html": [
        "<div style=\"max-height:1000px;max-width:1500px;overflow:auto;\">\n",
        "<table border=\"1\" class=\"dataframe\">\n",
        "  <thead>\n",
        "    <tr style=\"text-align: right;\">\n",
        "      <th></th>\n",
        "      <th>datetime</th>\n",
        "      <th>season</th>\n",
        "      <th>holiday</th>\n",
        "      <th>workingday</th>\n",
        "      <th>weather</th>\n",
        "      <th>temp</th>\n",
        "      <th>atemp</th>\n",
        "      <th>humidity</th>\n",
        "      <th>windspeed</th>\n",
        "      <th>casual</th>\n",
        "      <th>registered</th>\n",
        "      <th>count</th>\n",
        "    </tr>\n",
        "  </thead>\n",
        "  <tbody>\n",
        "    <tr>\n",
        "      <th>0</th>\n",
        "      <td> 2011-01-01 00:00:00</td>\n",
        "      <td> 1</td>\n",
        "      <td> 0</td>\n",
        "      <td> 0</td>\n",
        "      <td> 1</td>\n",
        "      <td> 9.84</td>\n",
        "      <td> 14.39</td>\n",
        "      <td> 81</td>\n",
        "      <td> 0</td>\n",
        "      <td> 3</td>\n",
        "      <td> 13</td>\n",
        "      <td> 16</td>\n",
        "    </tr>\n",
        "    <tr>\n",
        "      <th>1</th>\n",
        "      <td> 2011-01-01 01:00:00</td>\n",
        "      <td> 1</td>\n",
        "      <td> 0</td>\n",
        "      <td> 0</td>\n",
        "      <td> 1</td>\n",
        "      <td> 9.02</td>\n",
        "      <td> 13.63</td>\n",
        "      <td> 80</td>\n",
        "      <td> 0</td>\n",
        "      <td> 8</td>\n",
        "      <td> 32</td>\n",
        "      <td> 40</td>\n",
        "    </tr>\n",
        "    <tr>\n",
        "      <th>2</th>\n",
        "      <td> 2011-01-01 02:00:00</td>\n",
        "      <td> 1</td>\n",
        "      <td> 0</td>\n",
        "      <td> 0</td>\n",
        "      <td> 1</td>\n",
        "      <td> 9.02</td>\n",
        "      <td> 13.63</td>\n",
        "      <td> 80</td>\n",
        "      <td> 0</td>\n",
        "      <td> 5</td>\n",
        "      <td> 27</td>\n",
        "      <td> 32</td>\n",
        "    </tr>\n",
        "    <tr>\n",
        "      <th>3</th>\n",
        "      <td> 2011-01-01 03:00:00</td>\n",
        "      <td> 1</td>\n",
        "      <td> 0</td>\n",
        "      <td> 0</td>\n",
        "      <td> 1</td>\n",
        "      <td> 9.84</td>\n",
        "      <td> 14.39</td>\n",
        "      <td> 75</td>\n",
        "      <td> 0</td>\n",
        "      <td> 3</td>\n",
        "      <td> 10</td>\n",
        "      <td> 13</td>\n",
        "    </tr>\n",
        "    <tr>\n",
        "      <th>4</th>\n",
        "      <td> 2011-01-01 04:00:00</td>\n",
        "      <td> 1</td>\n",
        "      <td> 0</td>\n",
        "      <td> 0</td>\n",
        "      <td> 1</td>\n",
        "      <td> 9.84</td>\n",
        "      <td> 14.39</td>\n",
        "      <td> 75</td>\n",
        "      <td> 0</td>\n",
        "      <td> 0</td>\n",
        "      <td>  1</td>\n",
        "      <td>  1</td>\n",
        "    </tr>\n",
        "  </tbody>\n",
        "</table>\n",
        "</div>"
       ],
       "metadata": {},
       "output_type": "pyout",
       "prompt_number": 90,
       "text": [
        "              datetime  season  holiday  workingday  weather  temp  atemp  \\\n",
        "0  2011-01-01 00:00:00       1        0           0        1  9.84  14.39   \n",
        "1  2011-01-01 01:00:00       1        0           0        1  9.02  13.63   \n",
        "2  2011-01-01 02:00:00       1        0           0        1  9.02  13.63   \n",
        "3  2011-01-01 03:00:00       1        0           0        1  9.84  14.39   \n",
        "4  2011-01-01 04:00:00       1        0           0        1  9.84  14.39   \n",
        "\n",
        "   humidity  windspeed  casual  registered  count  \n",
        "0        81          0       3          13     16  \n",
        "1        80          0       8          32     40  \n",
        "2        80          0       5          27     32  \n",
        "3        75          0       3          10     13  \n",
        "4        75          0       0           1      1  "
       ]
      }
     ],
     "prompt_number": 90
    },
    {
     "cell_type": "code",
     "collapsed": false,
     "input": [
      "df.rename(columns = {'datetime' : 'd_t', 'count' : 'rentals'}, inplace = True)"
     ],
     "language": "python",
     "metadata": {},
     "outputs": [],
     "prompt_number": 91
    },
    {
     "cell_type": "code",
     "collapsed": false,
     "input": [
      "df.d_t = pd.to_datetime(df.d_t)\n",
      "df.info()"
     ],
     "language": "python",
     "metadata": {},
     "outputs": [
      {
       "output_type": "stream",
       "stream": "stdout",
       "text": [
        "<class 'pandas.core.frame.DataFrame'>\n",
        "Int64Index: 10886 entries, 0 to 10885\n",
        "Data columns (total 12 columns):\n",
        "d_t           10886 non-null datetime64[ns]\n",
        "season        10886 non-null int64\n",
        "holiday       10886 non-null int64\n",
        "workingday    10886 non-null int64\n",
        "weather       10886 non-null int64\n",
        "temp          10886 non-null float64\n",
        "atemp         10886 non-null float64\n",
        "humidity      10886 non-null int64\n",
        "windspeed     10886 non-null float64\n",
        "casual        10886 non-null int64\n",
        "registered    10886 non-null int64\n",
        "rentals       10886 non-null int64\n",
        "dtypes: datetime64[ns](1), float64(3), int64(8)"
       ]
      }
     ],
     "prompt_number": 92
    },
    {
     "cell_type": "code",
     "collapsed": false,
     "input": [
      "df['time'] = df.d_t.map(lambda x: x.time())\n",
      "df['date'] = df.d_t.map(lambda x: x.date())\n",
      "df['day'] = df.d_t.map(lambda x: x.dayofweek) # no ()??"
     ],
     "language": "python",
     "metadata": {},
     "outputs": [],
     "prompt_number": 93
    },
    {
     "cell_type": "code",
     "collapsed": false,
     "input": [
      "df.set_index(df.d_t, inplace = True)"
     ],
     "language": "python",
     "metadata": {},
     "outputs": [],
     "prompt_number": 94
    },
    {
     "cell_type": "code",
     "collapsed": false,
     "input": [
      "def dayname(x):\n",
      "    day = {}\n",
      "    day[0] = 'Mon'\n",
      "    day[1] = 'Tues'\n",
      "    day[2] = 'Wed'\n",
      "    day[3] = 'Thur'\n",
      "    day[4] = 'Fri'\n",
      "    day[5] = 'Sat'\n",
      "    day[6] = 'Sun'\n",
      "    return day[x]\n",
      "df['day_name'] = df['day'].map(dayname)"
     ],
     "language": "python",
     "metadata": {},
     "outputs": [],
     "prompt_number": 95
    },
    {
     "cell_type": "code",
     "collapsed": false,
     "input": [
      "#s eason -  1 = spring, 2 = summer, 3 = fall, 4 = winter \n",
      "def season(x):\n",
      "    season = {}\n",
      "    season[1] = 'Spring'\n",
      "    season[2] = 'Summer'\n",
      "    season[3] = 'Fall'\n",
      "    season[4] = 'Winter'\n",
      "    return season[x]\n",
      "df['season'] = df['season'].map(season)"
     ],
     "language": "python",
     "metadata": {},
     "outputs": [],
     "prompt_number": 96
    },
    {
     "cell_type": "code",
     "collapsed": false,
     "input": [
      "def weather(x):\n",
      "    weather = {}\n",
      "    weather[1] = 'Clear'\n",
      "    weather[2] = 'Mist'\n",
      "    weather[3] = 'Light'\n",
      "    weather[4] = 'Heavy'\n",
      "    return weather[x]\n",
      "df['weather'] = df['weather'].map(weather)"
     ],
     "language": "python",
     "metadata": {},
     "outputs": [],
     "prompt_number": 97
    },
    {
     "cell_type": "code",
     "collapsed": false,
     "input": [
      "df = df.drop('day', axis = 1)"
     ],
     "language": "python",
     "metadata": {},
     "outputs": [],
     "prompt_number": 98
    },
    {
     "cell_type": "code",
     "collapsed": false,
     "input": [
      "df.head()"
     ],
     "language": "python",
     "metadata": {},
     "outputs": [
      {
       "html": [
        "<div style=\"max-height:1000px;max-width:1500px;overflow:auto;\">\n",
        "<table border=\"1\" class=\"dataframe\">\n",
        "  <thead>\n",
        "    <tr style=\"text-align: right;\">\n",
        "      <th></th>\n",
        "      <th>d_t</th>\n",
        "      <th>season</th>\n",
        "      <th>holiday</th>\n",
        "      <th>workingday</th>\n",
        "      <th>weather</th>\n",
        "      <th>temp</th>\n",
        "      <th>atemp</th>\n",
        "      <th>humidity</th>\n",
        "      <th>windspeed</th>\n",
        "      <th>casual</th>\n",
        "      <th>registered</th>\n",
        "      <th>rentals</th>\n",
        "      <th>time</th>\n",
        "      <th>date</th>\n",
        "      <th>day_name</th>\n",
        "    </tr>\n",
        "    <tr>\n",
        "      <th>d_t</th>\n",
        "      <th></th>\n",
        "      <th></th>\n",
        "      <th></th>\n",
        "      <th></th>\n",
        "      <th></th>\n",
        "      <th></th>\n",
        "      <th></th>\n",
        "      <th></th>\n",
        "      <th></th>\n",
        "      <th></th>\n",
        "      <th></th>\n",
        "      <th></th>\n",
        "      <th></th>\n",
        "      <th></th>\n",
        "      <th></th>\n",
        "    </tr>\n",
        "  </thead>\n",
        "  <tbody>\n",
        "    <tr>\n",
        "      <th>2011-01-01 00:00:00</th>\n",
        "      <td>2011-01-01 00:00:00</td>\n",
        "      <td> Spring</td>\n",
        "      <td> 0</td>\n",
        "      <td> 0</td>\n",
        "      <td> Clear</td>\n",
        "      <td> 9.84</td>\n",
        "      <td> 14.39</td>\n",
        "      <td> 81</td>\n",
        "      <td> 0</td>\n",
        "      <td> 3</td>\n",
        "      <td> 13</td>\n",
        "      <td> 16</td>\n",
        "      <td> 00:00:00</td>\n",
        "      <td> 2011-01-01</td>\n",
        "      <td> Sat</td>\n",
        "    </tr>\n",
        "    <tr>\n",
        "      <th>2011-01-01 01:00:00</th>\n",
        "      <td>2011-01-01 01:00:00</td>\n",
        "      <td> Spring</td>\n",
        "      <td> 0</td>\n",
        "      <td> 0</td>\n",
        "      <td> Clear</td>\n",
        "      <td> 9.02</td>\n",
        "      <td> 13.63</td>\n",
        "      <td> 80</td>\n",
        "      <td> 0</td>\n",
        "      <td> 8</td>\n",
        "      <td> 32</td>\n",
        "      <td> 40</td>\n",
        "      <td> 01:00:00</td>\n",
        "      <td> 2011-01-01</td>\n",
        "      <td> Sat</td>\n",
        "    </tr>\n",
        "    <tr>\n",
        "      <th>2011-01-01 02:00:00</th>\n",
        "      <td>2011-01-01 02:00:00</td>\n",
        "      <td> Spring</td>\n",
        "      <td> 0</td>\n",
        "      <td> 0</td>\n",
        "      <td> Clear</td>\n",
        "      <td> 9.02</td>\n",
        "      <td> 13.63</td>\n",
        "      <td> 80</td>\n",
        "      <td> 0</td>\n",
        "      <td> 5</td>\n",
        "      <td> 27</td>\n",
        "      <td> 32</td>\n",
        "      <td> 02:00:00</td>\n",
        "      <td> 2011-01-01</td>\n",
        "      <td> Sat</td>\n",
        "    </tr>\n",
        "    <tr>\n",
        "      <th>2011-01-01 03:00:00</th>\n",
        "      <td>2011-01-01 03:00:00</td>\n",
        "      <td> Spring</td>\n",
        "      <td> 0</td>\n",
        "      <td> 0</td>\n",
        "      <td> Clear</td>\n",
        "      <td> 9.84</td>\n",
        "      <td> 14.39</td>\n",
        "      <td> 75</td>\n",
        "      <td> 0</td>\n",
        "      <td> 3</td>\n",
        "      <td> 10</td>\n",
        "      <td> 13</td>\n",
        "      <td> 03:00:00</td>\n",
        "      <td> 2011-01-01</td>\n",
        "      <td> Sat</td>\n",
        "    </tr>\n",
        "    <tr>\n",
        "      <th>2011-01-01 04:00:00</th>\n",
        "      <td>2011-01-01 04:00:00</td>\n",
        "      <td> Spring</td>\n",
        "      <td> 0</td>\n",
        "      <td> 0</td>\n",
        "      <td> Clear</td>\n",
        "      <td> 9.84</td>\n",
        "      <td> 14.39</td>\n",
        "      <td> 75</td>\n",
        "      <td> 0</td>\n",
        "      <td> 0</td>\n",
        "      <td>  1</td>\n",
        "      <td>  1</td>\n",
        "      <td> 04:00:00</td>\n",
        "      <td> 2011-01-01</td>\n",
        "      <td> Sat</td>\n",
        "    </tr>\n",
        "  </tbody>\n",
        "</table>\n",
        "</div>"
       ],
       "metadata": {},
       "output_type": "pyout",
       "prompt_number": 99,
       "text": [
        "                                    d_t  season  holiday  workingday weather  \\\n",
        "d_t                                                                            \n",
        "2011-01-01 00:00:00 2011-01-01 00:00:00  Spring        0           0   Clear   \n",
        "2011-01-01 01:00:00 2011-01-01 01:00:00  Spring        0           0   Clear   \n",
        "2011-01-01 02:00:00 2011-01-01 02:00:00  Spring        0           0   Clear   \n",
        "2011-01-01 03:00:00 2011-01-01 03:00:00  Spring        0           0   Clear   \n",
        "2011-01-01 04:00:00 2011-01-01 04:00:00  Spring        0           0   Clear   \n",
        "\n",
        "                     temp  atemp  humidity  windspeed  casual  registered  \\\n",
        "d_t                                                                         \n",
        "2011-01-01 00:00:00  9.84  14.39        81          0       3          13   \n",
        "2011-01-01 01:00:00  9.02  13.63        80          0       8          32   \n",
        "2011-01-01 02:00:00  9.02  13.63        80          0       5          27   \n",
        "2011-01-01 03:00:00  9.84  14.39        75          0       3          10   \n",
        "2011-01-01 04:00:00  9.84  14.39        75          0       0           1   \n",
        "\n",
        "                     rentals      time        date day_name  \n",
        "d_t                                                          \n",
        "2011-01-01 00:00:00       16  00:00:00  2011-01-01      Sat  \n",
        "2011-01-01 01:00:00       40  01:00:00  2011-01-01      Sat  \n",
        "2011-01-01 02:00:00       32  02:00:00  2011-01-01      Sat  \n",
        "2011-01-01 03:00:00       13  03:00:00  2011-01-01      Sat  \n",
        "2011-01-01 04:00:00        1  04:00:00  2011-01-01      Sat  "
       ]
      }
     ],
     "prompt_number": 99
    },
    {
     "cell_type": "code",
     "collapsed": false,
     "input": [
      "# scatter_matrix(df, figsize = (15, 15));"
     ],
     "language": "python",
     "metadata": {},
     "outputs": [],
     "prompt_number": 100
    },
    {
     "cell_type": "code",
     "collapsed": false,
     "input": [
      "dummy_season = pd.get_dummies(df['season'])\n",
      "dummy_weather = pd.get_dummies(df['weather'])\n",
      "dummy_day_name = pd.get_dummies(df['day_name'])\n",
      "dummy_time = pd.get_dummies(df['time'])\n"
     ],
     "language": "python",
     "metadata": {},
     "outputs": [],
     "prompt_number": 101
    },
    {
     "cell_type": "code",
     "collapsed": false,
     "input": [
      "df_dummy = df.join([dummy_season, dummy_weather, dummy_day_name, dummy_time])"
     ],
     "language": "python",
     "metadata": {},
     "outputs": [],
     "prompt_number": 102
    },
    {
     "cell_type": "code",
     "collapsed": false,
     "input": [
      "df_dummy.drop(['season', 'weather', 'day_name', 'time', 'date', 'd_t'], axis = 1, inplace = True)"
     ],
     "language": "python",
     "metadata": {},
     "outputs": [],
     "prompt_number": 103
    },
    {
     "cell_type": "code",
     "collapsed": false,
     "input": [
      "df_dummy = df_dummy.astype(int)\n",
      "df_dummy.info()"
     ],
     "language": "python",
     "metadata": {},
     "outputs": [
      {
       "output_type": "stream",
       "stream": "stdout",
       "text": [
        "<class 'pandas.core.frame.DataFrame'>\n",
        "DatetimeIndex: 10886 entries, 2011-01-01 00:00:00 to 2012-12-19 23:00:00\n",
        "Data columns (total 48 columns):\n",
        "holiday       10886 non-null int64\n",
        "workingday    10886 non-null int64\n",
        "temp          10886 non-null int64\n",
        "atemp         10886 non-null int64\n",
        "humidity      10886 non-null int64\n",
        "windspeed     10886 non-null int64\n",
        "casual        10886 non-null int64\n",
        "registered    10886 non-null int64\n",
        "rentals       10886 non-null int64\n",
        "Fall          10886 non-null int64\n",
        "Spring        10886 non-null int64\n",
        "Summer        10886 non-null int64\n",
        "Winter        10886 non-null int64\n",
        "Clear         10886 non-null int64\n",
        "Heavy         10886 non-null int64\n",
        "Light         10886 non-null int64\n",
        "Mist          10886 non-null int64\n",
        "Fri           10886 non-null int64\n",
        "Mon           10886 non-null int64\n",
        "Sat           10886 non-null int64\n",
        "Sun           10886 non-null int64\n",
        "Thur          10886 non-null int64\n",
        "Tues          10886 non-null int64\n",
        "Wed           10886 non-null int64\n",
        "00:00:00      10886 non-null int64\n",
        "01:00:00      10886 non-null int64\n",
        "02:00:00      10886 non-null int64\n",
        "03:00:00      10886 non-null int64\n",
        "04:00:00      10886 non-null int64\n",
        "05:00:00      10886 non-null int64\n",
        "06:00:00      10886 non-null int64\n",
        "07:00:00      10886 non-null int64\n",
        "08:00:00      10886 non-null int64\n",
        "09:00:00      10886 non-null int64\n",
        "10:00:00      10886 non-null int64\n",
        "11:00:00      10886 non-null int64\n",
        "12:00:00      10886 non-null int64\n",
        "13:00:00      10886 non-null int64\n",
        "14:00:00      10886 non-null int64\n",
        "15:00:00      10886 non-null int64\n",
        "16:00:00      10886 non-null int64\n",
        "17:00:00      10886 non-null int64\n",
        "18:00:00      10886 non-null int64\n",
        "19:00:00      10886 non-null int64\n",
        "20:00:00      10886 non-null int64\n",
        "21:00:00      10886 non-null int64\n",
        "22:00:00      10886 non-null int64\n",
        "23:00:00      10886 non-null int64\n",
        "dtypes: int64(48)"
       ]
      }
     ],
     "prompt_number": 104
    },
    {
     "cell_type": "code",
     "collapsed": false,
     "input": [
      "from sklearn.cross_validation import train_test_split"
     ],
     "language": "python",
     "metadata": {},
     "outputs": [],
     "prompt_number": 105
    },
    {
     "cell_type": "code",
     "collapsed": false,
     "input": [
      "features = df_dummy.drop(['casual', 'registered', 'rentals'], axis = 1).values"
     ],
     "language": "python",
     "metadata": {},
     "outputs": [],
     "prompt_number": 106
    },
    {
     "cell_type": "code",
     "collapsed": false,
     "input": [
      "target = df_dummy['rentals'].values"
     ],
     "language": "python",
     "metadata": {},
     "outputs": [],
     "prompt_number": 107
    },
    {
     "cell_type": "code",
     "collapsed": false,
     "input": [
      "features.shape"
     ],
     "language": "python",
     "metadata": {},
     "outputs": [
      {
       "metadata": {},
       "output_type": "pyout",
       "prompt_number": 108,
       "text": [
        "(10886, 45)"
       ]
      }
     ],
     "prompt_number": 108
    },
    {
     "cell_type": "code",
     "collapsed": false,
     "input": [
      "target.shape"
     ],
     "language": "python",
     "metadata": {},
     "outputs": [
      {
       "metadata": {},
       "output_type": "pyout",
       "prompt_number": 109,
       "text": [
        "(10886,)"
       ]
      }
     ],
     "prompt_number": 109
    },
    {
     "cell_type": "code",
     "collapsed": false,
     "input": [
      "from sklearn.linear_model import LinearRegression"
     ],
     "language": "python",
     "metadata": {},
     "outputs": [],
     "prompt_number": 110
    },
    {
     "cell_type": "code",
     "collapsed": false,
     "input": [
      "features_train, features_test, target_train, target_test = train_test_split(features, target, test_size = .3)"
     ],
     "language": "python",
     "metadata": {},
     "outputs": [],
     "prompt_number": 111
    },
    {
     "cell_type": "code",
     "collapsed": false,
     "input": [
      "lr = LinearRegression()"
     ],
     "language": "python",
     "metadata": {},
     "outputs": [],
     "prompt_number": 112
    },
    {
     "cell_type": "code",
     "collapsed": false,
     "input": [
      "lr.fit(features_train, target_train)"
     ],
     "language": "python",
     "metadata": {},
     "outputs": [
      {
       "metadata": {},
       "output_type": "pyout",
       "prompt_number": 113,
       "text": [
        "LinearRegression(copy_X=True, fit_intercept=True, normalize=False)"
       ]
      }
     ],
     "prompt_number": 113
    },
    {
     "cell_type": "code",
     "collapsed": false,
     "input": [
      "target_pred = lr.predict(features_test)"
     ],
     "language": "python",
     "metadata": {},
     "outputs": [],
     "prompt_number": 114
    },
    {
     "cell_type": "code",
     "collapsed": false,
     "input": [
      "sum_sq_model = np.sum((target_test - target_pred) ** 2)\n",
      "sum_sq_model"
     ],
     "language": "python",
     "metadata": {},
     "outputs": [
      {
       "metadata": {},
       "output_type": "pyout",
       "prompt_number": 115,
       "text": [
        "1.9338165394793343e+27"
       ]
      }
     ],
     "prompt_number": 115
    },
    {
     "cell_type": "code",
     "collapsed": false,
     "input": [
      "sum_sq_naive = np.sum((target_test - target_test.mean()) ** 2)\n",
      "sum_sq_naive"
     ],
     "language": "python",
     "metadata": {},
     "outputs": [
      {
       "metadata": {},
       "output_type": "pyout",
       "prompt_number": 116,
       "text": [
        "105268480.83404776"
       ]
      }
     ],
     "prompt_number": 116
    },
    {
     "cell_type": "code",
     "collapsed": false,
     "input": [
      "1 - sum_sq_model / sum_sq_naive"
     ],
     "language": "python",
     "metadata": {},
     "outputs": [
      {
       "metadata": {},
       "output_type": "pyout",
       "prompt_number": 117,
       "text": [
        "-1.8370328175704666e+19"
       ]
      }
     ],
     "prompt_number": 117
    },
    {
     "cell_type": "code",
     "collapsed": false,
     "input": [],
     "language": "python",
     "metadata": {},
     "outputs": [],
     "prompt_number": 117
    },
    {
     "cell_type": "code",
     "collapsed": false,
     "input": [],
     "language": "python",
     "metadata": {},
     "outputs": []
    },
    {
     "cell_type": "code",
     "collapsed": false,
     "input": [],
     "language": "python",
     "metadata": {},
     "outputs": []
    },
    {
     "cell_type": "code",
     "collapsed": false,
     "input": [],
     "language": "python",
     "metadata": {},
     "outputs": [],
     "prompt_number": 67
    },
    {
     "cell_type": "code",
     "collapsed": false,
     "input": [
      "df_test['count'] = 0"
     ],
     "language": "python",
     "metadata": {},
     "outputs": [],
     "prompt_number": 70
    },
    {
     "cell_type": "code",
     "collapsed": false,
     "input": [
      "df_test.head()"
     ],
     "language": "python",
     "metadata": {},
     "outputs": [
      {
       "html": [
        "<div style=\"max-height:1000px;max-width:1500px;overflow:auto;\">\n",
        "<table border=\"1\" class=\"dataframe\">\n",
        "  <thead>\n",
        "    <tr style=\"text-align: right;\">\n",
        "      <th></th>\n",
        "      <th>datetime</th>\n",
        "      <th>season</th>\n",
        "      <th>holiday</th>\n",
        "      <th>workingday</th>\n",
        "      <th>weather</th>\n",
        "      <th>temp</th>\n",
        "      <th>atemp</th>\n",
        "      <th>humidity</th>\n",
        "      <th>windspeed</th>\n",
        "      <th>count</th>\n",
        "    </tr>\n",
        "  </thead>\n",
        "  <tbody>\n",
        "    <tr>\n",
        "      <th>0</th>\n",
        "      <td> 2011-01-20 00:00:00</td>\n",
        "      <td> 1</td>\n",
        "      <td> 0</td>\n",
        "      <td> 1</td>\n",
        "      <td> 1</td>\n",
        "      <td> 10.66</td>\n",
        "      <td> 11.37</td>\n",
        "      <td> 56</td>\n",
        "      <td> 26</td>\n",
        "      <td> 0</td>\n",
        "    </tr>\n",
        "    <tr>\n",
        "      <th>1</th>\n",
        "      <td> 2011-01-20 01:00:00</td>\n",
        "      <td> 1</td>\n",
        "      <td> 0</td>\n",
        "      <td> 1</td>\n",
        "      <td> 1</td>\n",
        "      <td> 10.66</td>\n",
        "      <td> 13.63</td>\n",
        "      <td> 56</td>\n",
        "      <td>  0</td>\n",
        "      <td> 0</td>\n",
        "    </tr>\n",
        "    <tr>\n",
        "      <th>2</th>\n",
        "      <td> 2011-01-20 02:00:00</td>\n",
        "      <td> 1</td>\n",
        "      <td> 0</td>\n",
        "      <td> 1</td>\n",
        "      <td> 1</td>\n",
        "      <td> 10.66</td>\n",
        "      <td> 13.63</td>\n",
        "      <td> 56</td>\n",
        "      <td>  0</td>\n",
        "      <td> 0</td>\n",
        "    </tr>\n",
        "    <tr>\n",
        "      <th>3</th>\n",
        "      <td> 2011-01-20 03:00:00</td>\n",
        "      <td> 1</td>\n",
        "      <td> 0</td>\n",
        "      <td> 1</td>\n",
        "      <td> 1</td>\n",
        "      <td> 10.66</td>\n",
        "      <td> 12.88</td>\n",
        "      <td> 56</td>\n",
        "      <td> 11</td>\n",
        "      <td> 0</td>\n",
        "    </tr>\n",
        "    <tr>\n",
        "      <th>4</th>\n",
        "      <td> 2011-01-20 04:00:00</td>\n",
        "      <td> 1</td>\n",
        "      <td> 0</td>\n",
        "      <td> 1</td>\n",
        "      <td> 1</td>\n",
        "      <td> 10.66</td>\n",
        "      <td> 12.88</td>\n",
        "      <td> 56</td>\n",
        "      <td> 11</td>\n",
        "      <td> 0</td>\n",
        "    </tr>\n",
        "  </tbody>\n",
        "</table>\n",
        "</div>"
       ],
       "metadata": {},
       "output_type": "pyout",
       "prompt_number": 73,
       "text": [
        "              datetime  season  holiday  workingday  weather   temp  atemp  \\\n",
        "0  2011-01-20 00:00:00       1        0           1        1  10.66  11.37   \n",
        "1  2011-01-20 01:00:00       1        0           1        1  10.66  13.63   \n",
        "2  2011-01-20 02:00:00       1        0           1        1  10.66  13.63   \n",
        "3  2011-01-20 03:00:00       1        0           1        1  10.66  12.88   \n",
        "4  2011-01-20 04:00:00       1        0           1        1  10.66  12.88   \n",
        "\n",
        "   humidity  windspeed  count  \n",
        "0        56         26      0  \n",
        "1        56          0      0  \n",
        "2        56          0      0  \n",
        "3        56         11      0  \n",
        "4        56         11      0  "
       ]
      }
     ],
     "prompt_number": 73
    },
    {
     "cell_type": "code",
     "collapsed": false,
     "input": [
      "sample = pd.read_csv('sample.csv')\n",
      "sample.head()"
     ],
     "language": "python",
     "metadata": {},
     "outputs": [
      {
       "html": [
        "<div style=\"max-height:1000px;max-width:1500px;overflow:auto;\">\n",
        "<table border=\"1\" class=\"dataframe\">\n",
        "  <thead>\n",
        "    <tr style=\"text-align: right;\">\n",
        "      <th></th>\n",
        "      <th>datetime</th>\n",
        "      <th>count</th>\n",
        "    </tr>\n",
        "  </thead>\n",
        "  <tbody>\n",
        "    <tr>\n",
        "      <th>0</th>\n",
        "      <td> 2011-01-20 00:00:00</td>\n",
        "      <td> 0</td>\n",
        "    </tr>\n",
        "    <tr>\n",
        "      <th>1</th>\n",
        "      <td> 2011-01-20 01:00:00</td>\n",
        "      <td> 0</td>\n",
        "    </tr>\n",
        "    <tr>\n",
        "      <th>2</th>\n",
        "      <td> 2011-01-20 02:00:00</td>\n",
        "      <td> 0</td>\n",
        "    </tr>\n",
        "    <tr>\n",
        "      <th>3</th>\n",
        "      <td> 2011-01-20 03:00:00</td>\n",
        "      <td> 0</td>\n",
        "    </tr>\n",
        "    <tr>\n",
        "      <th>4</th>\n",
        "      <td> 2011-01-20 04:00:00</td>\n",
        "      <td> 0</td>\n",
        "    </tr>\n",
        "  </tbody>\n",
        "</table>\n",
        "</div>"
       ],
       "metadata": {},
       "output_type": "pyout",
       "prompt_number": 68,
       "text": [
        "              datetime  count\n",
        "0  2011-01-20 00:00:00      0\n",
        "1  2011-01-20 01:00:00      0\n",
        "2  2011-01-20 02:00:00      0\n",
        "3  2011-01-20 03:00:00      0\n",
        "4  2011-01-20 04:00:00      0"
       ]
      }
     ],
     "prompt_number": 68
    },
    {
     "cell_type": "code",
     "collapsed": false,
     "input": [
      "df.columns"
     ],
     "language": "python",
     "metadata": {},
     "outputs": [
      {
       "metadata": {},
       "output_type": "pyout",
       "prompt_number": 33,
       "text": [
        "Index([u'd_t', u'season', u'holiday', u'workingday', u'weather', u'temp', u'atemp', u'humidity', u'windspeed', u'casual', u'registered', u'rentals', u'time', u'date', u'day_name'], dtype='object')"
       ]
      }
     ],
     "prompt_number": 33
    },
    {
     "cell_type": "code",
     "collapsed": false,
     "input": [],
     "language": "python",
     "metadata": {},
     "outputs": [],
     "prompt_number": 33
    },
    {
     "cell_type": "code",
     "collapsed": false,
     "input": [],
     "language": "python",
     "metadata": {},
     "outputs": []
    }
   ],
   "metadata": {}
  }
 ]
}