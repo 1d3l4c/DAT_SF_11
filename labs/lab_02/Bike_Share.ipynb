{
 "metadata": {
  "name": "",
  "signature": "sha256:5e85feea986b8181562a894cf983805d6818d2c9bad25559964fa610667df5f8"
 },
 "nbformat": 3,
 "nbformat_minor": 0,
 "worksheets": [
  {
   "cells": [
    {
     "cell_type": "code",
     "collapsed": false,
     "input": [
      "import pandas as pd\n",
      "import pylab\n",
      "import matplotlib.pyplot as plt\n",
      "% matplotlib inline"
     ],
     "language": "python",
     "metadata": {},
     "outputs": [],
     "prompt_number": 38
    },
    {
     "cell_type": "code",
     "collapsed": false,
     "input": [
      "df_train = pd.read_csv('train.csv')\n",
      "df_test = pd.read_csv('test.csv')\n",
      "df_sample = pd.read_csv('sampleSubmission.csv')"
     ],
     "language": "python",
     "metadata": {},
     "outputs": [],
     "prompt_number": 39
    },
    {
     "cell_type": "code",
     "collapsed": false,
     "input": [
      "print df_test.info()\n",
      "print '\\n'\n",
      "print df_train.info()"
     ],
     "language": "python",
     "metadata": {},
     "outputs": [
      {
       "output_type": "stream",
       "stream": "stdout",
       "text": [
        "<class 'pandas.core.frame.DataFrame'>\n",
        "Int64Index: 6493 entries, 0 to 6492\n",
        "Data columns (total 9 columns):\n",
        "datetime      6493 non-null object\n",
        "season        6493 non-null int64\n",
        "holiday       6493 non-null int64\n",
        "workingday    6493 non-null int64\n",
        "weather       6493 non-null int64\n",
        "temp          6493 non-null float64\n",
        "atemp         6493 non-null float64\n",
        "humidity      6493 non-null int64\n",
        "windspeed     6493 non-null float64\n",
        "dtypes: float64(3), int64(5), object(1)None\n",
        "\n",
        "\n",
        "<class 'pandas.core.frame.DataFrame'>\n",
        "Int64Index: 10886 entries, 0 to 10885\n",
        "Data columns (total 12 columns):\n",
        "datetime      10886 non-null object\n",
        "season        10886 non-null int64\n",
        "holiday       10886 non-null int64\n",
        "workingday    10886 non-null int64\n",
        "weather       10886 non-null int64\n",
        "temp          10886 non-null float64\n",
        "atemp         10886 non-null float64\n",
        "humidity      10886 non-null int64\n",
        "windspeed     10886 non-null float64\n",
        "casual        10886 non-null int64\n",
        "registered    10886 non-null int64\n",
        "count         10886 non-null int64\n",
        "dtypes: float64(3), int64(8), object(1)None\n"
       ]
      }
     ],
     "prompt_number": 40
    },
    {
     "cell_type": "code",
     "collapsed": false,
     "input": [
      "df_train.head()"
     ],
     "language": "python",
     "metadata": {},
     "outputs": [
      {
       "html": [
        "<div style=\"max-height:1000px;max-width:1500px;overflow:auto;\">\n",
        "<table border=\"1\" class=\"dataframe\">\n",
        "  <thead>\n",
        "    <tr style=\"text-align: right;\">\n",
        "      <th></th>\n",
        "      <th>datetime</th>\n",
        "      <th>season</th>\n",
        "      <th>holiday</th>\n",
        "      <th>workingday</th>\n",
        "      <th>weather</th>\n",
        "      <th>temp</th>\n",
        "      <th>atemp</th>\n",
        "      <th>humidity</th>\n",
        "      <th>windspeed</th>\n",
        "      <th>casual</th>\n",
        "      <th>registered</th>\n",
        "      <th>count</th>\n",
        "    </tr>\n",
        "  </thead>\n",
        "  <tbody>\n",
        "    <tr>\n",
        "      <th>0</th>\n",
        "      <td> 2011-01-01 00:00:00</td>\n",
        "      <td> 1</td>\n",
        "      <td> 0</td>\n",
        "      <td> 0</td>\n",
        "      <td> 1</td>\n",
        "      <td> 9.84</td>\n",
        "      <td> 14.395</td>\n",
        "      <td> 81</td>\n",
        "      <td> 0</td>\n",
        "      <td> 3</td>\n",
        "      <td> 13</td>\n",
        "      <td> 16</td>\n",
        "    </tr>\n",
        "    <tr>\n",
        "      <th>1</th>\n",
        "      <td> 2011-01-01 01:00:00</td>\n",
        "      <td> 1</td>\n",
        "      <td> 0</td>\n",
        "      <td> 0</td>\n",
        "      <td> 1</td>\n",
        "      <td> 9.02</td>\n",
        "      <td> 13.635</td>\n",
        "      <td> 80</td>\n",
        "      <td> 0</td>\n",
        "      <td> 8</td>\n",
        "      <td> 32</td>\n",
        "      <td> 40</td>\n",
        "    </tr>\n",
        "    <tr>\n",
        "      <th>2</th>\n",
        "      <td> 2011-01-01 02:00:00</td>\n",
        "      <td> 1</td>\n",
        "      <td> 0</td>\n",
        "      <td> 0</td>\n",
        "      <td> 1</td>\n",
        "      <td> 9.02</td>\n",
        "      <td> 13.635</td>\n",
        "      <td> 80</td>\n",
        "      <td> 0</td>\n",
        "      <td> 5</td>\n",
        "      <td> 27</td>\n",
        "      <td> 32</td>\n",
        "    </tr>\n",
        "    <tr>\n",
        "      <th>3</th>\n",
        "      <td> 2011-01-01 03:00:00</td>\n",
        "      <td> 1</td>\n",
        "      <td> 0</td>\n",
        "      <td> 0</td>\n",
        "      <td> 1</td>\n",
        "      <td> 9.84</td>\n",
        "      <td> 14.395</td>\n",
        "      <td> 75</td>\n",
        "      <td> 0</td>\n",
        "      <td> 3</td>\n",
        "      <td> 10</td>\n",
        "      <td> 13</td>\n",
        "    </tr>\n",
        "    <tr>\n",
        "      <th>4</th>\n",
        "      <td> 2011-01-01 04:00:00</td>\n",
        "      <td> 1</td>\n",
        "      <td> 0</td>\n",
        "      <td> 0</td>\n",
        "      <td> 1</td>\n",
        "      <td> 9.84</td>\n",
        "      <td> 14.395</td>\n",
        "      <td> 75</td>\n",
        "      <td> 0</td>\n",
        "      <td> 0</td>\n",
        "      <td>  1</td>\n",
        "      <td>  1</td>\n",
        "    </tr>\n",
        "  </tbody>\n",
        "</table>\n",
        "</div>"
       ],
       "metadata": {},
       "output_type": "pyout",
       "prompt_number": 41,
       "text": [
        "              datetime  season  holiday  workingday  weather  temp   atemp  \\\n",
        "0  2011-01-01 00:00:00       1        0           0        1  9.84  14.395   \n",
        "1  2011-01-01 01:00:00       1        0           0        1  9.02  13.635   \n",
        "2  2011-01-01 02:00:00       1        0           0        1  9.02  13.635   \n",
        "3  2011-01-01 03:00:00       1        0           0        1  9.84  14.395   \n",
        "4  2011-01-01 04:00:00       1        0           0        1  9.84  14.395   \n",
        "\n",
        "   humidity  windspeed  casual  registered  count  \n",
        "0        81          0       3          13     16  \n",
        "1        80          0       8          32     40  \n",
        "2        80          0       5          27     32  \n",
        "3        75          0       3          10     13  \n",
        "4        75          0       0           1      1  "
       ]
      }
     ],
     "prompt_number": 41
    },
    {
     "cell_type": "code",
     "collapsed": false,
     "input": [
      "col_describe = ['weather', 'temp', 'atemp',\n",
      "                'humidity', 'windspeed', 'casual',\n",
      "                'registered', 'count']\n",
      "print df_train[col_describe].describe()"
     ],
     "language": "python",
     "metadata": {},
     "outputs": [
      {
       "output_type": "stream",
       "stream": "stdout",
       "text": [
        "            weather         temp         atemp      humidity     windspeed  \\\n",
        "count  10886.000000  10886.00000  10886.000000  10886.000000  10886.000000   \n",
        "mean       1.418427     20.23086     23.655084     61.886460     12.799395   \n",
        "std        0.633839      7.79159      8.474601     19.245033      8.164537   \n",
        "min        1.000000      0.82000      0.760000      0.000000      0.000000   \n",
        "25%        1.000000     13.94000     16.665000     47.000000      7.001500   \n",
        "50%        1.000000     20.50000     24.240000     62.000000     12.998000   \n",
        "75%        2.000000     26.24000     31.060000     77.000000     16.997900   \n",
        "max        4.000000     41.00000     45.455000    100.000000     56.996900   \n",
        "\n",
        "             casual    registered         count  \n",
        "count  10886.000000  10886.000000  10886.000000  \n",
        "mean      36.021955    155.552177    191.574132  \n",
        "std       49.960477    151.039033    181.144454  \n",
        "min        0.000000      0.000000      1.000000  \n",
        "25%        4.000000     36.000000     42.000000  \n",
        "50%       17.000000    118.000000    145.000000  \n",
        "75%       49.000000    222.000000    284.000000  \n",
        "max      367.000000    886.000000    977.000000  \n"
       ]
      }
     ],
     "prompt_number": 42
    },
    {
     "cell_type": "code",
     "collapsed": false,
     "input": [
      "df_train.hist(df_train, column = ['temp'])"
     ],
     "language": "python",
     "metadata": {},
     "outputs": [
      {
       "ename": "TypeError",
       "evalue": "hist_frame() got multiple values for keyword argument 'column'",
       "output_type": "pyerr",
       "traceback": [
        "\u001b[0;31m---------------------------------------------------------------------------\u001b[0m\n\u001b[0;31mTypeError\u001b[0m                                 Traceback (most recent call last)",
        "\u001b[0;32m<ipython-input-43-22deaa5472d5>\u001b[0m in \u001b[0;36m<module>\u001b[0;34m()\u001b[0m\n\u001b[0;32m----> 1\u001b[0;31m \u001b[0mdf_train\u001b[0m\u001b[0;34m.\u001b[0m\u001b[0mhist\u001b[0m\u001b[0;34m(\u001b[0m\u001b[0mdf_train\u001b[0m\u001b[0;34m,\u001b[0m \u001b[0mcolumn\u001b[0m \u001b[0;34m=\u001b[0m \u001b[0;34m[\u001b[0m\u001b[0;34m'temp'\u001b[0m\u001b[0;34m]\u001b[0m\u001b[0;34m)\u001b[0m\u001b[0;34m\u001b[0m\u001b[0m\n\u001b[0m",
        "\u001b[0;31mTypeError\u001b[0m: hist_frame() got multiple values for keyword argument 'column'"
       ]
      }
     ],
     "prompt_number": 43
    },
    {
     "cell_type": "code",
     "collapsed": false,
     "input": [],
     "language": "python",
     "metadata": {},
     "outputs": [],
     "prompt_number": 43
    },
    {
     "cell_type": "code",
     "collapsed": false,
     "input": [],
     "language": "python",
     "metadata": {},
     "outputs": []
    }
   ],
   "metadata": {}
  }
 ]
}