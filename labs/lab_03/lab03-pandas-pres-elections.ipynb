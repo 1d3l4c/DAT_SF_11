{
 "metadata": {
  "name": "",
  "signature": "sha256:705a4f78708fd0c4eb1704c50633eb5021a4167b5056bc4a62bd49a56d6957d4"
 },
 "nbformat": 3,
 "nbformat_minor": 0,
 "worksheets": [
  {
   "cells": [
    {
     "cell_type": "code",
     "collapsed": false,
     "input": [
      "# Standard imports for data analysis packages in Python\n",
      "import pandas as pd\n",
      "import numpy as np\n",
      "import seaborn as sns\n",
      "import matplotlib.pyplot as plt\n",
      "\n",
      "# This enables inline Plots\n",
      "%matplotlib inline\n",
      "\n",
      "# Limit rows displayed in notebook\n",
      "pd.set_option('display.max_rows', None)\n",
      "pd.set_option('display.precision', 5)"
     ],
     "language": "python",
     "metadata": {},
     "outputs": [],
     "prompt_number": 303
    },
    {
     "cell_type": "code",
     "collapsed": false,
     "input": [
      "# Let's explore Presidential Elections Dataset\n",
      "\n",
      "pres_2004 = pd.read_csv('../data/us_pres_elections/2004_election_results.csv')"
     ],
     "language": "python",
     "metadata": {},
     "outputs": [],
     "prompt_number": 304
    },
    {
     "cell_type": "code",
     "collapsed": false,
     "input": [
      "# OK Now, read the \"electoral_votes_by_state.csv\" Dataset.  What do you see\n",
      "# Call it electoral_votes\n",
      "electoral_votes = pd.read_csv('../data/us_pres_elections/electoral_votes_by_state.csv')"
     ],
     "language": "python",
     "metadata": {},
     "outputs": [],
     "prompt_number": 305
    },
    {
     "cell_type": "code",
     "collapsed": false,
     "input": [
      "# pres_2004.merge(electoral_votes)\n",
      "\n",
      "pres_2004 = pres_2004.merge(electoral_votes)"
     ],
     "language": "python",
     "metadata": {},
     "outputs": [],
     "prompt_number": 306
    },
    {
     "cell_type": "code",
     "collapsed": false,
     "input": [
      "# Look at first 5 rows\n",
      "pres_2004.head()"
     ],
     "language": "python",
     "metadata": {},
     "outputs": [
      {
       "html": [
        "<div style=\"max-height:1000px;max-width:1500px;overflow:auto;\">\n",
        "<table border=\"1\" class=\"dataframe\">\n",
        "  <thead>\n",
        "    <tr style=\"text-align: right;\">\n",
        "      <th></th>\n",
        "      <th>STATE</th>\n",
        "      <th> Bush</th>\n",
        "      <th>Kerry</th>\n",
        "      <th>All Others</th>\n",
        "      <th>Total Vote</th>\n",
        "      <th>Electoral Votes</th>\n",
        "    </tr>\n",
        "  </thead>\n",
        "  <tbody>\n",
        "    <tr>\n",
        "      <th>0</th>\n",
        "      <td> AL</td>\n",
        "      <td> 1,176,394</td>\n",
        "      <td>   693,933</td>\n",
        "      <td>  13,122</td>\n",
        "      <td>  1,883,449</td>\n",
        "      <td>  9</td>\n",
        "    </tr>\n",
        "    <tr>\n",
        "      <th>1</th>\n",
        "      <td> AK</td>\n",
        "      <td>   190,889</td>\n",
        "      <td>   111,025</td>\n",
        "      <td>  10,684</td>\n",
        "      <td>    312,598</td>\n",
        "      <td>  3</td>\n",
        "    </tr>\n",
        "    <tr>\n",
        "      <th>2</th>\n",
        "      <td> AZ</td>\n",
        "      <td> 1,104,294</td>\n",
        "      <td>   893,524</td>\n",
        "      <td>  14,767</td>\n",
        "      <td>  2,012,585</td>\n",
        "      <td> 10</td>\n",
        "    </tr>\n",
        "    <tr>\n",
        "      <th>3</th>\n",
        "      <td> AR</td>\n",
        "      <td>   572,898</td>\n",
        "      <td>   469,953</td>\n",
        "      <td>  12,094</td>\n",
        "      <td>  1,054,945</td>\n",
        "      <td>  6</td>\n",
        "    </tr>\n",
        "    <tr>\n",
        "      <th>4</th>\n",
        "      <td> CA</td>\n",
        "      <td> 5,509,826</td>\n",
        "      <td> 6,745,485</td>\n",
        "      <td> 166,541</td>\n",
        "      <td> 12,421,852</td>\n",
        "      <td> 55</td>\n",
        "    </tr>\n",
        "  </tbody>\n",
        "</table>\n",
        "</div>"
       ],
       "metadata": {},
       "output_type": "pyout",
       "prompt_number": 307,
       "text": [
        "  STATE       Bush      Kerry All Others  Total Vote  Electoral Votes\n",
        "0    AL  1,176,394    693,933     13,122   1,883,449                9\n",
        "1    AK    190,889    111,025     10,684     312,598                3\n",
        "2    AZ  1,104,294    893,524     14,767   2,012,585               10\n",
        "3    AR    572,898    469,953     12,094   1,054,945                6\n",
        "4    CA  5,509,826  6,745,485    166,541  12,421,852               55"
       ]
      }
     ],
     "prompt_number": 307
    },
    {
     "cell_type": "code",
     "collapsed": false,
     "input": [
      "# last 5 rows\n",
      "pres_2004.tail()"
     ],
     "language": "python",
     "metadata": {},
     "outputs": [
      {
       "html": [
        "<div style=\"max-height:1000px;max-width:1500px;overflow:auto;\">\n",
        "<table border=\"1\" class=\"dataframe\">\n",
        "  <thead>\n",
        "    <tr style=\"text-align: right;\">\n",
        "      <th></th>\n",
        "      <th>STATE</th>\n",
        "      <th> Bush</th>\n",
        "      <th>Kerry</th>\n",
        "      <th>All Others</th>\n",
        "      <th>Total Vote</th>\n",
        "      <th>Electoral Votes</th>\n",
        "    </tr>\n",
        "  </thead>\n",
        "  <tbody>\n",
        "    <tr>\n",
        "      <th>46</th>\n",
        "      <td> VA</td>\n",
        "      <td> 1,716,959</td>\n",
        "      <td> 1,454,742</td>\n",
        "      <td> 26,666</td>\n",
        "      <td> 3,198,367</td>\n",
        "      <td> 13</td>\n",
        "    </tr>\n",
        "    <tr>\n",
        "      <th>47</th>\n",
        "      <td> WA</td>\n",
        "      <td> 1,304,894</td>\n",
        "      <td> 1,510,201</td>\n",
        "      <td> 43,989</td>\n",
        "      <td> 2,859,084</td>\n",
        "      <td> 11</td>\n",
        "    </tr>\n",
        "    <tr>\n",
        "      <th>48</th>\n",
        "      <td> WV</td>\n",
        "      <td>   423,778</td>\n",
        "      <td>   326,541</td>\n",
        "      <td>  5,568</td>\n",
        "      <td>   755,887</td>\n",
        "      <td>  5</td>\n",
        "    </tr>\n",
        "    <tr>\n",
        "      <th>49</th>\n",
        "      <td> WI</td>\n",
        "      <td> 1,478,120</td>\n",
        "      <td> 1,489,504</td>\n",
        "      <td> 29,383</td>\n",
        "      <td> 2,997,007</td>\n",
        "      <td> 10</td>\n",
        "    </tr>\n",
        "    <tr>\n",
        "      <th>50</th>\n",
        "      <td> WY</td>\n",
        "      <td>   167,629</td>\n",
        "      <td>    70,776</td>\n",
        "      <td>  5,023</td>\n",
        "      <td>   243,428</td>\n",
        "      <td>  3</td>\n",
        "    </tr>\n",
        "  </tbody>\n",
        "</table>\n",
        "</div>"
       ],
       "metadata": {},
       "output_type": "pyout",
       "prompt_number": 308,
       "text": [
        "   STATE       Bush      Kerry All Others Total Vote  Electoral Votes\n",
        "46    VA  1,716,959  1,454,742     26,666  3,198,367               13\n",
        "47    WA  1,304,894  1,510,201     43,989  2,859,084               11\n",
        "48    WV    423,778    326,541      5,568    755,887                5\n",
        "49    WI  1,478,120  1,489,504     29,383  2,997,007               10\n",
        "50    WY    167,629     70,776      5,023    243,428                3"
       ]
      }
     ],
     "prompt_number": 308
    },
    {
     "cell_type": "code",
     "collapsed": false,
     "input": [
      "# do a Info to look at datatypes\n",
      "# Do you see any missing data?"
     ],
     "language": "python",
     "metadata": {},
     "outputs": [],
     "prompt_number": 309
    },
    {
     "cell_type": "code",
     "collapsed": false,
     "input": [
      "pres_2004.columns"
     ],
     "language": "python",
     "metadata": {},
     "outputs": [
      {
       "metadata": {},
       "output_type": "pyout",
       "prompt_number": 310,
       "text": [
        "Index([u'STATE', u' Bush', u'Kerry', u'All Others', u'Total Vote', u'Electoral Votes'], dtype='object')"
       ]
      }
     ],
     "prompt_number": 310
    },
    {
     "cell_type": "code",
     "collapsed": false,
     "input": [
      "# Notice that 'Bush' has a space in the front.\n",
      "# Replace column name ' Bush' with 'Bush'\n",
      "\n",
      "## Your Turn\n",
      "pres_2004.rename(columns = {' Bush' : 'Bush',\n",
      "                            'All Others': 'All_Others',\n",
      "                            'Total Vote' : 'Total_Vote',\n",
      "                            'Electoral Votes' : 'Electoral_Votes'}, inplace = True)"
     ],
     "language": "python",
     "metadata": {},
     "outputs": [],
     "prompt_number": 311
    },
    {
     "cell_type": "code",
     "collapsed": false,
     "input": [
      "pres_2004.columns"
     ],
     "language": "python",
     "metadata": {},
     "outputs": [
      {
       "metadata": {},
       "output_type": "pyout",
       "prompt_number": 312,
       "text": [
        "Index([u'STATE', u'Bush', u'Kerry', u'All_Others', u'Total_Vote', u'Electoral_Votes'], dtype='object')"
       ]
      }
     ],
     "prompt_number": 312
    },
    {
     "cell_type": "code",
     "collapsed": false,
     "input": [
      "# Let's convert the string value for votes into numbers\n",
      "# Here's a sample - pres_2004.Kerry.map(lambda x: x.strip().replace(',', '')).astype(int)\n",
      "\n",
      "# Do this for Bush, Kerry, All Others, Total Votes\n",
      "for i in ['Bush', 'Kerry', 'All_Others', 'Total_Vote']:\n",
      "    pres_2004[i] = pres_2004[i].map(lambda x: x.replace(',', '')).astype(int)"
     ],
     "language": "python",
     "metadata": {},
     "outputs": [],
     "prompt_number": 313
    },
    {
     "cell_type": "code",
     "collapsed": false,
     "input": [
      "pres_2004.info()"
     ],
     "language": "python",
     "metadata": {},
     "outputs": [
      {
       "output_type": "stream",
       "stream": "stdout",
       "text": [
        "<class 'pandas.core.frame.DataFrame'>\n",
        "Int64Index: 51 entries, 0 to 50\n",
        "Data columns (total 6 columns):\n",
        "STATE              51 non-null object\n",
        "Bush               51 non-null int64\n",
        "Kerry              51 non-null int64\n",
        "All_Others         51 non-null int64\n",
        "Total_Vote         51 non-null int64\n",
        "Electoral_Votes    51 non-null int64\n",
        "dtypes: int64(5), object(1)"
       ]
      }
     ],
     "prompt_number": 314
    },
    {
     "cell_type": "code",
     "collapsed": false,
     "input": [
      "electoral_votes.info()"
     ],
     "language": "python",
     "metadata": {},
     "outputs": [
      {
       "output_type": "stream",
       "stream": "stdout",
       "text": [
        "<class 'pandas.core.frame.DataFrame'>\n",
        "Int64Index: 51 entries, 0 to 50\n",
        "Data columns (total 2 columns):\n",
        "STATE              51 non-null object\n",
        "Electoral Votes    51 non-null int64\n",
        "dtypes: int64(1), object(1)"
       ]
      }
     ],
     "prompt_number": 315
    },
    {
     "cell_type": "markdown",
     "metadata": {},
     "source": [
      "### Merge Electoral votes with pres_2004 to see who won and by how many electoral votes\n",
      "\n",
      "* Merge vs Join"
     ]
    },
    {
     "cell_type": "code",
     "collapsed": false,
     "input": [
      "# Award the electoral Votes to the candidate that had the most votes in the stae\n",
      "# How much did Kerry and Bush get?\n",
      "pres_2004['Bush_EV'] = (pres_2004.Bush > pres_2004.Kerry) * pres_2004.Electoral_Votes\n",
      "pres_2004['Kerry_EV'] = (pres_2004.Kerry > pres_2004.Bush) * pres_2004.Electoral_Votes"
     ],
     "language": "python",
     "metadata": {},
     "outputs": [],
     "prompt_number": 316
    },
    {
     "cell_type": "code",
     "collapsed": false,
     "input": [
      "pres_2004.head()"
     ],
     "language": "python",
     "metadata": {},
     "outputs": [
      {
       "html": [
        "<div style=\"max-height:1000px;max-width:1500px;overflow:auto;\">\n",
        "<table border=\"1\" class=\"dataframe\">\n",
        "  <thead>\n",
        "    <tr style=\"text-align: right;\">\n",
        "      <th></th>\n",
        "      <th>STATE</th>\n",
        "      <th>Bush</th>\n",
        "      <th>Kerry</th>\n",
        "      <th>All_Others</th>\n",
        "      <th>Total_Vote</th>\n",
        "      <th>Electoral_Votes</th>\n",
        "      <th>Bush_EV</th>\n",
        "      <th>Kerry_EV</th>\n",
        "    </tr>\n",
        "  </thead>\n",
        "  <tbody>\n",
        "    <tr>\n",
        "      <th>0</th>\n",
        "      <td> AL</td>\n",
        "      <td> 1176394</td>\n",
        "      <td>  693933</td>\n",
        "      <td>  13122</td>\n",
        "      <td>  1883449</td>\n",
        "      <td>  9</td>\n",
        "      <td>  9</td>\n",
        "      <td>  0</td>\n",
        "    </tr>\n",
        "    <tr>\n",
        "      <th>1</th>\n",
        "      <td> AK</td>\n",
        "      <td>  190889</td>\n",
        "      <td>  111025</td>\n",
        "      <td>  10684</td>\n",
        "      <td>   312598</td>\n",
        "      <td>  3</td>\n",
        "      <td>  3</td>\n",
        "      <td>  0</td>\n",
        "    </tr>\n",
        "    <tr>\n",
        "      <th>2</th>\n",
        "      <td> AZ</td>\n",
        "      <td> 1104294</td>\n",
        "      <td>  893524</td>\n",
        "      <td>  14767</td>\n",
        "      <td>  2012585</td>\n",
        "      <td> 10</td>\n",
        "      <td> 10</td>\n",
        "      <td>  0</td>\n",
        "    </tr>\n",
        "    <tr>\n",
        "      <th>3</th>\n",
        "      <td> AR</td>\n",
        "      <td>  572898</td>\n",
        "      <td>  469953</td>\n",
        "      <td>  12094</td>\n",
        "      <td>  1054945</td>\n",
        "      <td>  6</td>\n",
        "      <td>  6</td>\n",
        "      <td>  0</td>\n",
        "    </tr>\n",
        "    <tr>\n",
        "      <th>4</th>\n",
        "      <td> CA</td>\n",
        "      <td> 5509826</td>\n",
        "      <td> 6745485</td>\n",
        "      <td> 166541</td>\n",
        "      <td> 12421852</td>\n",
        "      <td> 55</td>\n",
        "      <td>  0</td>\n",
        "      <td> 55</td>\n",
        "    </tr>\n",
        "  </tbody>\n",
        "</table>\n",
        "</div>"
       ],
       "metadata": {},
       "output_type": "pyout",
       "prompt_number": 317,
       "text": [
        "  STATE     Bush    Kerry  All_Others  Total_Vote  Electoral_Votes  Bush_EV  \\\n",
        "0    AL  1176394   693933       13122     1883449                9        9   \n",
        "1    AK   190889   111025       10684      312598                3        3   \n",
        "2    AZ  1104294   893524       14767     2012585               10       10   \n",
        "3    AR   572898   469953       12094     1054945                6        6   \n",
        "4    CA  5509826  6745485      166541    12421852               55        0   \n",
        "\n",
        "   Kerry_EV  \n",
        "0         0  \n",
        "1         0  \n",
        "2         0  \n",
        "3         0  \n",
        "4        55  "
       ]
      }
     ],
     "prompt_number": 317
    },
    {
     "cell_type": "code",
     "collapsed": false,
     "input": [
      "# Now add a NEW Column and set it to 2004.  We are going to merge files later\n",
      "pres_2004['year'] = 2004"
     ],
     "language": "python",
     "metadata": {},
     "outputs": [],
     "prompt_number": 318
    },
    {
     "cell_type": "code",
     "collapsed": false,
     "input": [
      "pres_2004.groupby('year')['Bush_EV', 'Kerry_EV'].sum()"
     ],
     "language": "python",
     "metadata": {},
     "outputs": [
      {
       "html": [
        "<div style=\"max-height:1000px;max-width:1500px;overflow:auto;\">\n",
        "<table border=\"1\" class=\"dataframe\">\n",
        "  <thead>\n",
        "    <tr style=\"text-align: right;\">\n",
        "      <th></th>\n",
        "      <th>Bush_EV</th>\n",
        "      <th>Kerry_EV</th>\n",
        "    </tr>\n",
        "    <tr>\n",
        "      <th>year</th>\n",
        "      <th></th>\n",
        "      <th></th>\n",
        "    </tr>\n",
        "  </thead>\n",
        "  <tbody>\n",
        "    <tr>\n",
        "      <th>2004</th>\n",
        "      <td> 286</td>\n",
        "      <td> 252</td>\n",
        "    </tr>\n",
        "  </tbody>\n",
        "</table>\n",
        "</div>"
       ],
       "metadata": {},
       "output_type": "pyout",
       "prompt_number": 352,
       "text": [
        "      Bush_EV  Kerry_EV\n",
        "year                   \n",
        "2004      286       252"
       ]
      }
     ],
     "prompt_number": 352
    },
    {
     "cell_type": "code",
     "collapsed": false,
     "input": [],
     "language": "python",
     "metadata": {},
     "outputs": [],
     "prompt_number": 319
    },
    {
     "cell_type": "markdown",
     "metadata": {},
     "source": [
      "### Read in 2008 and Append the rows of 2008 with 2004"
     ]
    },
    {
     "cell_type": "code",
     "collapsed": false,
     "input": [
      "pres_2008 = pd.read_csv('../data/us_pres_elections/2008_election_results.csv')"
     ],
     "language": "python",
     "metadata": {},
     "outputs": [],
     "prompt_number": 320
    },
    {
     "cell_type": "code",
     "collapsed": false,
     "input": [
      "pres_2008.rename(columns = {'State': 'STATE'}, inplace = True)"
     ],
     "language": "python",
     "metadata": {},
     "outputs": [],
     "prompt_number": 321
    },
    {
     "cell_type": "code",
     "collapsed": false,
     "input": [
      "pres_2008 = pres_2008.merge(electoral_votes)"
     ],
     "language": "python",
     "metadata": {},
     "outputs": [],
     "prompt_number": 322
    },
    {
     "cell_type": "code",
     "collapsed": false,
     "input": [
      "pres_2008['year'] = 2008"
     ],
     "language": "python",
     "metadata": {},
     "outputs": [],
     "prompt_number": 323
    },
    {
     "cell_type": "code",
     "collapsed": false,
     "input": [
      "pres_2008.rename(columns = {'All Others': 'All_Others',\n",
      "                            'Total Vote' : 'Total_Vote',\n",
      "                            'Electoral Votes' : 'Electoral_Votes'}, inplace = True)"
     ],
     "language": "python",
     "metadata": {},
     "outputs": [],
     "prompt_number": 324
    },
    {
     "cell_type": "code",
     "collapsed": false,
     "input": [
      "pres_2008.head()"
     ],
     "language": "python",
     "metadata": {},
     "outputs": [
      {
       "html": [
        "<div style=\"max-height:1000px;max-width:1500px;overflow:auto;\">\n",
        "<table border=\"1\" class=\"dataframe\">\n",
        "  <thead>\n",
        "    <tr style=\"text-align: right;\">\n",
        "      <th></th>\n",
        "      <th>STATE</th>\n",
        "      <th>Obama</th>\n",
        "      <th>McCain</th>\n",
        "      <th>All_Others</th>\n",
        "      <th>Total_Vote</th>\n",
        "      <th>Electoral_Votes</th>\n",
        "      <th>year</th>\n",
        "    </tr>\n",
        "  </thead>\n",
        "  <tbody>\n",
        "    <tr>\n",
        "      <th>0</th>\n",
        "      <td> AL</td>\n",
        "      <td>   813,479</td>\n",
        "      <td> 1,266,546</td>\n",
        "      <td>  19,794</td>\n",
        "      <td>  2,099,819</td>\n",
        "      <td>  9</td>\n",
        "      <td> 2008</td>\n",
        "    </tr>\n",
        "    <tr>\n",
        "      <th>1</th>\n",
        "      <td> AK</td>\n",
        "      <td>   123,594</td>\n",
        "      <td>   193,841</td>\n",
        "      <td>   8,762</td>\n",
        "      <td>    326,197</td>\n",
        "      <td>  3</td>\n",
        "      <td> 2008</td>\n",
        "    </tr>\n",
        "    <tr>\n",
        "      <th>2</th>\n",
        "      <td> AZ</td>\n",
        "      <td> 1,034,707</td>\n",
        "      <td> 1,230,111</td>\n",
        "      <td>  28,657</td>\n",
        "      <td>  2,293,475</td>\n",
        "      <td> 10</td>\n",
        "      <td> 2008</td>\n",
        "    </tr>\n",
        "    <tr>\n",
        "      <th>3</th>\n",
        "      <td> AR</td>\n",
        "      <td>   422,310</td>\n",
        "      <td>   638,017</td>\n",
        "      <td>  26,290</td>\n",
        "      <td>  1,086,617</td>\n",
        "      <td>  6</td>\n",
        "      <td> 2008</td>\n",
        "    </tr>\n",
        "    <tr>\n",
        "      <th>4</th>\n",
        "      <td> CA</td>\n",
        "      <td> 8,274,473</td>\n",
        "      <td> 5,011,781</td>\n",
        "      <td> 275,646</td>\n",
        "      <td> 13,561,900</td>\n",
        "      <td> 55</td>\n",
        "      <td> 2008</td>\n",
        "    </tr>\n",
        "  </tbody>\n",
        "</table>\n",
        "</div>"
       ],
       "metadata": {},
       "output_type": "pyout",
       "prompt_number": 325,
       "text": [
        "  STATE      Obama     McCain All_Others  Total_Vote  Electoral_Votes  year\n",
        "0    AL    813,479  1,266,546     19,794   2,099,819                9  2008\n",
        "1    AK    123,594    193,841      8,762     326,197                3  2008\n",
        "2    AZ  1,034,707  1,230,111     28,657   2,293,475               10  2008\n",
        "3    AR    422,310    638,017     26,290   1,086,617                6  2008\n",
        "4    CA  8,274,473  5,011,781    275,646  13,561,900               55  2008"
       ]
      }
     ],
     "prompt_number": 325
    },
    {
     "cell_type": "code",
     "collapsed": false,
     "input": [
      "for i in ['Obama', 'McCain', 'All_Others', 'Total_Vote']:\n",
      "    pres_2008[i] = pres_2008[i].map(lambda x: x.replace(',', '')).astype(int)"
     ],
     "language": "python",
     "metadata": {},
     "outputs": [],
     "prompt_number": 326
    },
    {
     "cell_type": "code",
     "collapsed": false,
     "input": [
      "pres_2008['Obama_EV'] = (pres_2008.Obama > pres_2008.McCain) * pres_2008.Electoral_Votes\n",
      "pres_2008['McCain_EV'] = (pres_2008.McCain > pres_2008.Obama) * pres_2008.Electoral_Votes\n",
      "\n",
      "# this works with these votes as objects?\n",
      "\n",
      "pres_2008.info()"
     ],
     "language": "python",
     "metadata": {},
     "outputs": [
      {
       "output_type": "stream",
       "stream": "stdout",
       "text": [
        "<class 'pandas.core.frame.DataFrame'>\n",
        "Int64Index: 51 entries, 0 to 50\n",
        "Data columns (total 9 columns):\n",
        "STATE              51 non-null object\n",
        "Obama              51 non-null int64\n",
        "McCain             51 non-null int64\n",
        "All_Others         51 non-null int64\n",
        "Total_Vote         51 non-null int64\n",
        "Electoral_Votes    51 non-null int64\n",
        "year               51 non-null int64\n",
        "Obama_EV           51 non-null int64\n",
        "McCain_EV          51 non-null int64\n",
        "dtypes: int64(8), object(1)"
       ]
      }
     ],
     "prompt_number": 327
    },
    {
     "cell_type": "code",
     "collapsed": false,
     "input": [
      "# your turn\n",
      "pres = pres_2004.append(pres_2008)"
     ],
     "language": "python",
     "metadata": {},
     "outputs": [],
     "prompt_number": 328
    },
    {
     "cell_type": "code",
     "collapsed": false,
     "input": [
      "pres[pres.year == 2008].groupby(['year'])[['Obama_EV', 'McCain_EV']].sum()"
     ],
     "language": "python",
     "metadata": {},
     "outputs": [
      {
       "html": [
        "<div style=\"max-height:1000px;max-width:1500px;overflow:auto;\">\n",
        "<table border=\"1\" class=\"dataframe\">\n",
        "  <thead>\n",
        "    <tr style=\"text-align: right;\">\n",
        "      <th></th>\n",
        "      <th>Obama_EV</th>\n",
        "      <th>McCain_EV</th>\n",
        "    </tr>\n",
        "    <tr>\n",
        "      <th>year</th>\n",
        "      <th></th>\n",
        "      <th></th>\n",
        "    </tr>\n",
        "  </thead>\n",
        "  <tbody>\n",
        "    <tr>\n",
        "      <th>2008</th>\n",
        "      <td> 364</td>\n",
        "      <td> 174</td>\n",
        "    </tr>\n",
        "  </tbody>\n",
        "</table>\n",
        "</div>"
       ],
       "metadata": {},
       "output_type": "pyout",
       "prompt_number": 350,
       "text": [
        "      Obama_EV  McCain_EV\n",
        "year                     \n",
        "2008       364        174"
       ]
      }
     ],
     "prompt_number": 350
    },
    {
     "cell_type": "markdown",
     "metadata": {},
     "source": [
      "### Read in 2012 Election results too"
     ]
    },
    {
     "cell_type": "code",
     "collapsed": false,
     "input": [
      "pres_2012 = pd.read_csv('../data/us_pres_elections/2012_election_results.csv')"
     ],
     "language": "python",
     "metadata": {},
     "outputs": [],
     "prompt_number": 330
    },
    {
     "cell_type": "code",
     "collapsed": false,
     "input": [
      "pres_2012 = pres_2012.merge(electoral_votes)\n"
     ],
     "language": "python",
     "metadata": {},
     "outputs": [],
     "prompt_number": 331
    },
    {
     "cell_type": "code",
     "collapsed": false,
     "input": [
      "pres_2012.rename(columns = {'All Others': 'All_Others',\n",
      "                            'Total Vote' : 'Total_Vote',\n",
      "                            'Electoral Votes' : 'Electoral_Votes'}, inplace = True)"
     ],
     "language": "python",
     "metadata": {},
     "outputs": [],
     "prompt_number": 332
    },
    {
     "cell_type": "code",
     "collapsed": false,
     "input": [
      "pres_2012['year'] = 2012"
     ],
     "language": "python",
     "metadata": {},
     "outputs": [],
     "prompt_number": 333
    },
    {
     "cell_type": "code",
     "collapsed": false,
     "input": [
      "for i in ['All_Others', 'Romney', 'Obama', 'Total_Vote']:\n",
      "    pres_2012[i] = pres_2012[i].map(lambda x: x.replace(',', '')).astype(int)"
     ],
     "language": "python",
     "metadata": {},
     "outputs": [],
     "prompt_number": 334
    },
    {
     "cell_type": "code",
     "collapsed": false,
     "input": [
      "pres_2012['Obama_EV'] = (pres_2012.Obama > pres_2012.Romney) * pres_2012.Electoral_Votes\n",
      "pres_2012['Romney_EV'] = (pres_2012.Romney > pres_2012.Obama) * pres_2012.Electoral_Votes"
     ],
     "language": "python",
     "metadata": {},
     "outputs": [],
     "prompt_number": 335
    },
    {
     "cell_type": "code",
     "collapsed": false,
     "input": [
      "pres = pres.append(pres_2012)"
     ],
     "language": "python",
     "metadata": {},
     "outputs": [],
     "prompt_number": 336
    },
    {
     "cell_type": "code",
     "collapsed": false,
     "input": [
      "pres.info()"
     ],
     "language": "python",
     "metadata": {},
     "outputs": [
      {
       "output_type": "stream",
       "stream": "stdout",
       "text": [
        "<class 'pandas.core.frame.DataFrame'>\n",
        "Int64Index: 153 entries, 0 to 50\n",
        "Data columns (total 15 columns):\n",
        "All_Others         153 non-null int64\n",
        "Bush               51 non-null float64\n",
        "Bush_EV            51 non-null float64\n",
        "Electoral_Votes    153 non-null int64\n",
        "Kerry              51 non-null float64\n",
        "Kerry_EV           51 non-null float64\n",
        "McCain             51 non-null float64\n",
        "McCain_EV          51 non-null float64\n",
        "Obama              102 non-null float64\n",
        "Obama_EV           102 non-null float64\n",
        "Romney             51 non-null float64\n",
        "Romney_EV          51 non-null float64\n",
        "STATE              153 non-null object\n",
        "Total_Vote         153 non-null int64\n",
        "year               153 non-null int64\n",
        "dtypes: float64(10), int64(4), object(1)"
       ]
      }
     ],
     "prompt_number": 337
    },
    {
     "cell_type": "code",
     "collapsed": false,
     "input": [
      "pres[pres.year == 2012].groupby(['year'])[['Obama_EV', 'Romney_EV']].sum()"
     ],
     "language": "python",
     "metadata": {},
     "outputs": [
      {
       "html": [
        "<div style=\"max-height:1000px;max-width:1500px;overflow:auto;\">\n",
        "<table border=\"1\" class=\"dataframe\">\n",
        "  <thead>\n",
        "    <tr style=\"text-align: right;\">\n",
        "      <th></th>\n",
        "      <th>Obama_EV</th>\n",
        "      <th>Romney_EV</th>\n",
        "    </tr>\n",
        "    <tr>\n",
        "      <th>year</th>\n",
        "      <th></th>\n",
        "      <th></th>\n",
        "    </tr>\n",
        "  </thead>\n",
        "  <tbody>\n",
        "    <tr>\n",
        "      <th>2012</th>\n",
        "      <td> 338</td>\n",
        "      <td> 200</td>\n",
        "    </tr>\n",
        "  </tbody>\n",
        "</table>\n",
        "</div>"
       ],
       "metadata": {},
       "output_type": "pyout",
       "prompt_number": 348,
       "text": [
        "      Obama_EV  Romney_EV\n",
        "year                     \n",
        "2012       338        200"
       ]
      }
     ],
     "prompt_number": 348
    },
    {
     "cell_type": "markdown",
     "metadata": {},
     "source": [
      "### Create a new data frame to classify each of the presidential candidates in 2004, 2008 and 2012 as Democrat or Republican"
     ]
    },
    {
     "cell_type": "code",
     "collapsed": false,
     "input": [
      "pres['Rep'] = np.nan"
     ],
     "language": "python",
     "metadata": {},
     "outputs": [],
     "prompt_number": 339
    },
    {
     "cell_type": "code",
     "collapsed": false,
     "input": [
      "pres.Rep.fillna(pres.Bush, inplace = True)"
     ],
     "language": "python",
     "metadata": {},
     "outputs": [],
     "prompt_number": 340
    },
    {
     "cell_type": "code",
     "collapsed": false,
     "input": [
      "pres.Rep.fillna(pres.Romney, inplace = True)"
     ],
     "language": "python",
     "metadata": {},
     "outputs": [],
     "prompt_number": 341
    },
    {
     "cell_type": "code",
     "collapsed": false,
     "input": [
      "pres.Rep.fillna(pres.McCain, inplace = True)"
     ],
     "language": "python",
     "metadata": {},
     "outputs": [],
     "prompt_number": 342
    },
    {
     "cell_type": "code",
     "collapsed": false,
     "input": [
      "pres['Dem'] = np.nan"
     ],
     "language": "python",
     "metadata": {},
     "outputs": [],
     "prompt_number": 353
    },
    {
     "cell_type": "code",
     "collapsed": false,
     "input": [
      "pres.Dem.fillna(pres.Kerry, inplace = True)"
     ],
     "language": "python",
     "metadata": {},
     "outputs": [],
     "prompt_number": 354
    },
    {
     "cell_type": "code",
     "collapsed": false,
     "input": [
      "pres.Dem.fillna(pres.Obama, inplace = True)"
     ],
     "language": "python",
     "metadata": {},
     "outputs": [],
     "prompt_number": 355
    },
    {
     "cell_type": "code",
     "collapsed": false,
     "input": [
      "pres[pd.isnull(pres.Dem)].tail()"
     ],
     "language": "python",
     "metadata": {},
     "outputs": [
      {
       "html": [
        "<div style=\"max-height:1000px;max-width:1500px;overflow:auto;\">\n",
        "<table border=\"1\" class=\"dataframe\">\n",
        "  <thead>\n",
        "    <tr style=\"text-align: right;\">\n",
        "      <th></th>\n",
        "      <th>All_Others</th>\n",
        "      <th>Bush</th>\n",
        "      <th>Bush_EV</th>\n",
        "      <th>Electoral_Votes</th>\n",
        "      <th>Kerry</th>\n",
        "      <th>Kerry_EV</th>\n",
        "      <th>McCain</th>\n",
        "      <th>McCain_EV</th>\n",
        "      <th>Obama</th>\n",
        "      <th>Obama_EV</th>\n",
        "      <th>Romney</th>\n",
        "      <th>Romney_EV</th>\n",
        "      <th>STATE</th>\n",
        "      <th>Total_Vote</th>\n",
        "      <th>year</th>\n",
        "      <th>Rep</th>\n",
        "      <th>Dem</th>\n",
        "    </tr>\n",
        "  </thead>\n",
        "  <tbody>\n",
        "  </tbody>\n",
        "</table>\n",
        "</div>"
       ],
       "metadata": {},
       "output_type": "pyout",
       "prompt_number": 356,
       "text": [
        "Empty DataFrame\n",
        "Columns: [All_Others, Bush, Bush_EV, Electoral_Votes, Kerry, Kerry_EV, McCain, McCain_EV, Obama, Obama_EV, Romney, Romney_EV, STATE, Total_Vote, year, Rep, Dem]\n",
        "Index: []"
       ]
      }
     ],
     "prompt_number": 356
    },
    {
     "cell_type": "code",
     "collapsed": false,
     "input": [
      "pres.info()"
     ],
     "language": "python",
     "metadata": {},
     "outputs": [
      {
       "output_type": "stream",
       "stream": "stdout",
       "text": [
        "<class 'pandas.core.frame.DataFrame'>\n",
        "Int64Index: 153 entries, 0 to 50\n",
        "Data columns (total 17 columns):\n",
        "All_Others         153 non-null int64\n",
        "Bush               51 non-null float64\n",
        "Bush_EV            51 non-null float64\n",
        "Electoral_Votes    153 non-null int64\n",
        "Kerry              51 non-null float64\n",
        "Kerry_EV           51 non-null float64\n",
        "McCain             51 non-null float64\n",
        "McCain_EV          51 non-null float64\n",
        "Obama              102 non-null float64\n",
        "Obama_EV           102 non-null float64\n",
        "Romney             51 non-null float64\n",
        "Romney_EV          51 non-null float64\n",
        "STATE              153 non-null object\n",
        "Total_Vote         153 non-null int64\n",
        "year               153 non-null int64\n",
        "Rep                153 non-null float64\n",
        "Dem                153 non-null float64\n",
        "dtypes: float64(12), int64(4), object(1)"
       ]
      }
     ],
     "prompt_number": 357
    },
    {
     "cell_type": "code",
     "collapsed": false,
     "input": [],
     "language": "python",
     "metadata": {},
     "outputs": [],
     "prompt_number": 344
    },
    {
     "cell_type": "markdown",
     "metadata": {},
     "source": [
      "### Now, can you give electoral vote counts for the three elections (04, 08, 12) by Party Afiliation"
     ]
    },
    {
     "cell_type": "code",
     "collapsed": false,
     "input": [
      "pres['Dem_EV'] = (pres.Dem > pres.Rep) * pres.Electoral_Votes"
     ],
     "language": "python",
     "metadata": {},
     "outputs": [],
     "prompt_number": 358
    },
    {
     "cell_type": "code",
     "collapsed": false,
     "input": [
      "pres['Rep_EV'] = (pres.Dem < pres.Rep) * pres.Electoral_Votes"
     ],
     "language": "python",
     "metadata": {},
     "outputs": [],
     "prompt_number": 359
    },
    {
     "cell_type": "code",
     "collapsed": false,
     "input": [
      "pres.groupby('year')['Dem_EV', 'Rep_EV'].sum()"
     ],
     "language": "python",
     "metadata": {},
     "outputs": [
      {
       "html": [
        "<div style=\"max-height:1000px;max-width:1500px;overflow:auto;\">\n",
        "<table border=\"1\" class=\"dataframe\">\n",
        "  <thead>\n",
        "    <tr style=\"text-align: right;\">\n",
        "      <th></th>\n",
        "      <th>Dem_EV</th>\n",
        "      <th>Rep_EV</th>\n",
        "    </tr>\n",
        "    <tr>\n",
        "      <th>year</th>\n",
        "      <th></th>\n",
        "      <th></th>\n",
        "    </tr>\n",
        "  </thead>\n",
        "  <tbody>\n",
        "    <tr>\n",
        "      <th>2004</th>\n",
        "      <td> 252</td>\n",
        "      <td> 286</td>\n",
        "    </tr>\n",
        "    <tr>\n",
        "      <th>2008</th>\n",
        "      <td> 364</td>\n",
        "      <td> 174</td>\n",
        "    </tr>\n",
        "    <tr>\n",
        "      <th>2012</th>\n",
        "      <td> 338</td>\n",
        "      <td> 200</td>\n",
        "    </tr>\n",
        "  </tbody>\n",
        "</table>\n",
        "</div>"
       ],
       "metadata": {},
       "output_type": "pyout",
       "prompt_number": 361,
       "text": [
        "      Dem_EV  Rep_EV\n",
        "year                \n",
        "2004     252     286\n",
        "2008     364     174\n",
        "2012     338     200"
       ]
      }
     ],
     "prompt_number": 361
    },
    {
     "cell_type": "code",
     "collapsed": false,
     "input": [
      "pres[['Dem_EV', 'Rep_EV']].sum()"
     ],
     "language": "python",
     "metadata": {},
     "outputs": [
      {
       "metadata": {},
       "output_type": "pyout",
       "prompt_number": 363,
       "text": [
        "Dem_EV    954\n",
        "Rep_EV    660\n",
        "dtype: int64"
       ]
      }
     ],
     "prompt_number": 363
    },
    {
     "cell_type": "markdown",
     "metadata": {},
     "source": [
      "### What States are safely Republican or Democratic."
     ]
    },
    {
     "cell_type": "code",
     "collapsed": false,
     "input": [
      "EV_Total = pres.groupby('STATE')['Dem_EV', 'Rep_EV'].sum().reset_index()"
     ],
     "language": "python",
     "metadata": {},
     "outputs": [],
     "prompt_number": 400
    },
    {
     "cell_type": "code",
     "collapsed": false,
     "input": [
      "DEM_STATES = EV_Total[EV_Total.Rep_EV == 0]['STATE']\n",
      "print DEM_STATES"
     ],
     "language": "python",
     "metadata": {},
     "outputs": [
      {
       "output_type": "stream",
       "stream": "stdout",
       "text": [
        "4     CA\n",
        "6     CT\n",
        "7     DC\n",
        "8     DE\n",
        "11    HI\n",
        "14    IL\n",
        "19    MA\n",
        "20    MD\n",
        "21    ME\n",
        "22    MI\n",
        "23    MN\n",
        "30    NH\n",
        "31    NJ\n",
        "34    NY\n",
        "37    OR\n",
        "38    PA\n",
        "39    RI\n",
        "46    VT\n",
        "47    WA\n",
        "48    WI\n",
        "Name: STATE, dtype: object\n"
       ]
      }
     ],
     "prompt_number": 416
    },
    {
     "cell_type": "code",
     "collapsed": false,
     "input": [
      "REP_STATES = EV_Total[EV_Total.Dem_EV == 0]['STATE']\n",
      "print REP_STATES"
     ],
     "language": "python",
     "metadata": {},
     "outputs": [
      {
       "output_type": "stream",
       "stream": "stdout",
       "text": [
        "0     AK\n",
        "1     AL\n",
        "2     AR\n",
        "3     AZ\n",
        "10    GA\n",
        "13    ID\n",
        "16    KS\n",
        "17    KY\n",
        "18    LA\n",
        "24    MO\n",
        "25    MS\n",
        "26    MT\n",
        "28    ND\n",
        "29    NE\n",
        "36    OK\n",
        "40    SC\n",
        "41    SD\n",
        "42    TN\n",
        "43    TX\n",
        "44    UT\n",
        "49    WV\n",
        "50    WY\n",
        "Name: STATE, dtype: object\n"
       ]
      }
     ],
     "prompt_number": 417
    },
    {
     "cell_type": "markdown",
     "metadata": {},
     "source": [
      "### Challenge: What states decide the fate of elections?"
     ]
    },
    {
     "cell_type": "code",
     "collapsed": false,
     "input": [
      "SWING_STATES = EV_Total[(EV_Total.Dem_EV != 0) & (EV_Total.Rep_EV != 0)]"
     ],
     "language": "python",
     "metadata": {},
     "outputs": [],
     "prompt_number": 424
    },
    {
     "cell_type": "code",
     "collapsed": false,
     "input": [
      "SWING_STATES"
     ],
     "language": "python",
     "metadata": {},
     "outputs": [
      {
       "html": [
        "<div style=\"max-height:1000px;max-width:1500px;overflow:auto;\">\n",
        "<table border=\"1\" class=\"dataframe\">\n",
        "  <thead>\n",
        "    <tr style=\"text-align: right;\">\n",
        "      <th></th>\n",
        "      <th>STATE</th>\n",
        "      <th>Dem_EV</th>\n",
        "      <th>Rep_EV</th>\n",
        "    </tr>\n",
        "  </thead>\n",
        "  <tbody>\n",
        "    <tr>\n",
        "      <th>5 </th>\n",
        "      <td> CO</td>\n",
        "      <td> 18</td>\n",
        "      <td>  9</td>\n",
        "    </tr>\n",
        "    <tr>\n",
        "      <th>9 </th>\n",
        "      <td> FL</td>\n",
        "      <td> 54</td>\n",
        "      <td> 27</td>\n",
        "    </tr>\n",
        "    <tr>\n",
        "      <th>12</th>\n",
        "      <td> IA</td>\n",
        "      <td> 14</td>\n",
        "      <td>  7</td>\n",
        "    </tr>\n",
        "    <tr>\n",
        "      <th>15</th>\n",
        "      <td> IN</td>\n",
        "      <td> 11</td>\n",
        "      <td> 22</td>\n",
        "    </tr>\n",
        "    <tr>\n",
        "      <th>27</th>\n",
        "      <td> NC</td>\n",
        "      <td> 15</td>\n",
        "      <td> 30</td>\n",
        "    </tr>\n",
        "    <tr>\n",
        "      <th>32</th>\n",
        "      <td> NM</td>\n",
        "      <td> 10</td>\n",
        "      <td>  5</td>\n",
        "    </tr>\n",
        "    <tr>\n",
        "      <th>33</th>\n",
        "      <td> NV</td>\n",
        "      <td> 10</td>\n",
        "      <td>  5</td>\n",
        "    </tr>\n",
        "    <tr>\n",
        "      <th>35</th>\n",
        "      <td> OH</td>\n",
        "      <td> 40</td>\n",
        "      <td> 20</td>\n",
        "    </tr>\n",
        "    <tr>\n",
        "      <th>45</th>\n",
        "      <td> VA</td>\n",
        "      <td> 26</td>\n",
        "      <td> 13</td>\n",
        "    </tr>\n",
        "  </tbody>\n",
        "</table>\n",
        "</div>"
       ],
       "metadata": {},
       "output_type": "pyout",
       "prompt_number": 425,
       "text": [
        "   STATE  Dem_EV  Rep_EV\n",
        "5     CO      18       9\n",
        "9     FL      54      27\n",
        "12    IA      14       7\n",
        "15    IN      11      22\n",
        "27    NC      15      30\n",
        "32    NM      10       5\n",
        "33    NV      10       5\n",
        "35    OH      40      20\n",
        "45    VA      26      13"
       ]
      }
     ],
     "prompt_number": 425
    },
    {
     "cell_type": "code",
     "collapsed": false,
     "input": [],
     "language": "python",
     "metadata": {},
     "outputs": []
    }
   ],
   "metadata": {}
  }
 ]
}