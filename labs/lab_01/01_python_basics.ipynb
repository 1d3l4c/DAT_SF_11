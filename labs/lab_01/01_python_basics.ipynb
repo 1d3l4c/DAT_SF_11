{
 "metadata": {
  "name": "",
  "signature": "sha256:f701e970681d7fdabec463d707edc1f1feb471b2e2b1cbb16a1af0056c5b8896"
 },
 "nbformat": 3,
 "nbformat_minor": 0,
 "worksheets": [
  {
   "cells": [
    {
     "cell_type": "code",
     "collapsed": false,
     "input": [
      "from __future__ import division, print_function"
     ],
     "language": "python",
     "metadata": {},
     "outputs": [],
     "prompt_number": 6
    },
    {
     "cell_type": "markdown",
     "metadata": {},
     "source": [
      "# Variables and Types\n",
      "\n",
      "### Naming\n",
      "\n",
      "Variable names in Python can contain alphanumerical characters a-z, A-Z, 0-9 and some special characters such as _. \n",
      "\n",
      "By convension - \n",
      "\n",
      "* Variable names start with a lower-case letter and uses underscore to create multi-word variable names. For example - value_counts, bucket_size.  This style of variable naming is called snake case.\n",
      "\n",
      "* Class names start with a capital letter and follow Camel case.  For example - Order, LinearRegression, DecisionTree.\n",
      "\n",
      "* Funtions follow the same naming convention as variables.  Functions are first class objects - anywhere you can pass a variable, you can pass a function.\n",
      "\n",
      "### Assignment\n",
      "\n",
      "Python is a dynamically typed language, so we do not need to specify the type of a variable when we create one.\n",
      "\n",
      "### Types\n",
      "\n",
      "But variables have types and Python is a Strongly (and Dynamically) Typed Language.\n",
      "\n",
      "### Getting Help\n",
      "\n",
      "Type dir() or help() of any object or method to get some quick documentation on your terminal"
     ]
    },
    {
     "cell_type": "code",
     "collapsed": false,
     "input": [
      "# Variable Assignment\n",
      "\n",
      "origin = \"San Francisco\" # string \n",
      "destination = \"New York\"  # string\n",
      "passengers = 250  # Integer\n",
      "on_time = True  # boolean\n",
      "arrived = None  # no value"
     ],
     "language": "python",
     "metadata": {},
     "outputs": [],
     "prompt_number": 15
    },
    {
     "cell_type": "code",
     "collapsed": false,
     "input": [
      "# Types\n",
      "\n",
      "print('Type of Passengers: ', type(passengers))\n",
      "print('Type of origin: ', type(origin))\n",
      "print('Type of on_time: ', type(on_time))\n",
      "print('Type of arrived: ', type(arrived))"
     ],
     "language": "python",
     "metadata": {},
     "outputs": [
      {
       "output_type": "stream",
       "stream": "stdout",
       "text": [
        "Type of Passengers:  <type 'int'>\n",
        "Type of origin:  <type 'str'>\n",
        "Type of on_time:  <type 'bool'>\n",
        "Type of arrived:  <type 'NoneType'>\n"
       ]
      }
     ],
     "prompt_number": 8
    },
    {
     "cell_type": "code",
     "collapsed": false,
     "input": [
      "# Everything is an object\n",
      "\n",
      "print(dir(origin))"
     ],
     "language": "python",
     "metadata": {},
     "outputs": [
      {
       "output_type": "stream",
       "stream": "stdout",
       "text": [
        "['__add__', '__class__', '__contains__', '__delattr__', '__doc__', '__eq__', '__format__', '__ge__', '__getattribute__', '__getitem__', '__getnewargs__', '__getslice__', '__gt__', '__hash__', '__init__', '__le__', '__len__', '__lt__', '__mod__', '__mul__', '__ne__', '__new__', '__reduce__', '__reduce_ex__', '__repr__', '__rmod__', '__rmul__', '__setattr__', '__sizeof__', '__str__', '__subclasshook__', '_formatter_field_name_split', '_formatter_parser', 'capitalize', 'center', 'count', 'decode', 'encode', 'endswith', 'expandtabs', 'find', 'format', 'index', 'isalnum', 'isalpha', 'isdigit', 'islower', 'isspace', 'istitle', 'isupper', 'join', 'ljust', 'lower', 'lstrip', 'partition', 'replace', 'rfind', 'rindex', 'rjust', 'rpartition', 'rsplit', 'rstrip', 'split', 'splitlines', 'startswith', 'strip', 'swapcase', 'title', 'translate', 'upper', 'zfill']\n"
       ]
      }
     ],
     "prompt_number": 10
    },
    {
     "cell_type": "code",
     "collapsed": false,
     "input": [
      "origin.upper()"
     ],
     "language": "python",
     "metadata": {},
     "outputs": [
      {
       "metadata": {},
       "output_type": "pyout",
       "prompt_number": 11,
       "text": [
        "'SAN FRANCISCO'"
       ]
      }
     ],
     "prompt_number": 11
    },
    {
     "cell_type": "code",
     "collapsed": false,
     "input": [
      "print(dir(5))"
     ],
     "language": "python",
     "metadata": {},
     "outputs": [
      {
       "output_type": "stream",
       "stream": "stdout",
       "text": [
        "['__abs__', '__add__', '__and__', '__class__', '__cmp__', '__coerce__', '__delattr__', '__div__', '__divmod__', '__doc__', '__float__', '__floordiv__', '__format__', '__getattribute__', '__getnewargs__', '__hash__', '__hex__', '__index__', '__init__', '__int__', '__invert__', '__long__', '__lshift__', '__mod__', '__mul__', '__neg__', '__new__', '__nonzero__', '__oct__', '__or__', '__pos__', '__pow__', '__radd__', '__rand__', '__rdiv__', '__rdivmod__', '__reduce__', '__reduce_ex__', '__repr__', '__rfloordiv__', '__rlshift__', '__rmod__', '__rmul__', '__ror__', '__rpow__', '__rrshift__', '__rshift__', '__rsub__', '__rtruediv__', '__rxor__', '__setattr__', '__sizeof__', '__str__', '__sub__', '__subclasshook__', '__truediv__', '__trunc__', '__xor__', 'bit_length', 'conjugate', 'denominator', 'imag', 'numerator', 'real']\n"
       ]
      }
     ],
     "prompt_number": 12
    },
    {
     "cell_type": "code",
     "collapsed": false,
     "input": [
      "# Getting help on a function\n",
      "help(origin.upper)"
     ],
     "language": "python",
     "metadata": {},
     "outputs": [
      {
       "output_type": "stream",
       "stream": "stdout",
       "text": [
        "Help on built-in function upper:\n",
        "\n",
        "upper(...)\n",
        "    S.upper() -> string\n",
        "    \n",
        "    Return a copy of the string S converted to uppercase.\n",
        "\n"
       ]
      }
     ],
     "prompt_number": 13
    },
    {
     "cell_type": "code",
     "collapsed": false,
     "input": [
      "# IPython way of getting help\n",
      "?origin.upper"
     ],
     "language": "python",
     "metadata": {},
     "outputs": [],
     "prompt_number": 14
    },
    {
     "cell_type": "markdown",
     "metadata": {},
     "source": [
      "## Data Structures\n",
      "\n",
      "### Lists\n",
      "Python Lists can contain an arbitary list of objects.  It can be ints, strings, dictionaries, objects, and even functions.\n",
      "\n",
      "### Tuple\n",
      "Tuple is unique to Python and is not present in other languages.  Tuples are like lists, but cannot be appended or deleted after initialization.  You can create new Tuples, but cannot add more elements to existing tuple. Tuple is more efficient than Lists and has a subset of API that List has.\n",
      "\n",
      "### Sets\n",
      "Dicts are like lists, but the values are unique in the list.  You have additional functions to do Set unions, intersections etc.\n",
      "\n",
      "### Dictionaries\n",
      "Dictionaries (hashmap in other languages) creates a Key-Value container.  Just like lists, Values can be of any type - ints, strings, lists, functions and even another dict.\n",
      "\n",
      "The Key of dictionary must be \"immutable\" - int, string, tuple\n",
      "\n",
      "These classes can also be used as Iterable to access the elements.  Iterable is an object that can be iterated over (in a for loop for instance).  Just think of it as a sequence.  It would be clear once we do some examples."
     ]
    },
    {
     "cell_type": "code",
     "collapsed": false,
     "input": [
      "# List of items\n",
      "mylist = [\"SFO\", \"NYC\", 2600, [\"United\", \"JetBlue\", \"SouthWest\"]]\n",
      "\n",
      "mytuple = (\"SFO\", \"NYC\", 2600, [\"United\", \"JetBlue\", \"SouthWest\"])\n",
      "\n",
      "myset = set([40, 50, 40, 10, 20, 20])\n",
      "\n",
      "# Creating dict - very similar to JSON Object\n",
      "travel = {\n",
      "    'start': \"SFO\",\n",
      "    'dest': \"NYC\",\n",
      "    'miles': 2600,\n",
      "    'options': [\"United\", \"JetBlue\", \"SouthWest\"]\n",
      "}\n",
      "\n",
      "# Pythonic way of creating a dict\n",
      "travel = dict()\n",
      "travel['start'] = \"SFO\"\n",
      "travel['dest'] = \"NYC\"\n",
      "travel['miles'] = 2600\n",
      "travel['options'] = [\"United\", \"JetBlue\", \"SouthWest\"]"
     ],
     "language": "python",
     "metadata": {},
     "outputs": [],
     "prompt_number": 18
    },
    {
     "cell_type": "code",
     "collapsed": false,
     "input": [
      "# For Loop"
     ],
     "language": "python",
     "metadata": {},
     "outputs": [],
     "prompt_number": 19
    },
    {
     "cell_type": "code",
     "collapsed": false,
     "input": [
      "# While Loop"
     ],
     "language": "python",
     "metadata": {},
     "outputs": [],
     "prompt_number": 20
    },
    {
     "cell_type": "code",
     "collapsed": false,
     "input": [
      "# Functions\n",
      "def is_even(numb):\n",
      "    '''Returns True if the number is an even Number, else returns False'''\n",
      "    if numb % 2 == 0:\n",
      "        return True\n",
      "    return False\n",
      "\n",
      "print('5: ', is_even(5))\n",
      "print('4: ', is_even(4))"
     ],
     "language": "python",
     "metadata": {},
     "outputs": [
      {
       "output_type": "stream",
       "stream": "stdout",
       "text": [
        "5:  False\n",
        "4:  True\n"
       ]
      }
     ],
     "prompt_number": 24
    },
    {
     "cell_type": "code",
     "collapsed": false,
     "input": [
      "# Is even without Modulous Operator\n",
      "def is_even(numb):\n",
      "    '''Returns True if the number is an even Number, else returns False'''\n",
      "    result = False\n",
      "    while numb > 0:\n",
      "        if numb == 1:\n",
      "            result = True\n",
      "            break\n",
      "        elif numb != round(numb):\n",
      "            result = False\n",
      "            break\n",
      "        numb = numb / 2\n",
      "    return result\n",
      "\n",
      "print('5: ', is_even(5))\n",
      "print('4: ', is_even(4))"
     ],
     "language": "python",
     "metadata": {},
     "outputs": [
      {
       "output_type": "stream",
       "stream": "stdout",
       "text": [
        "5:  False\n",
        "4:  True\n"
       ]
      }
     ],
     "prompt_number": 26
    },
    {
     "cell_type": "markdown",
     "metadata": {},
     "source": [
      "### Testing\n",
      "\n",
      "print is nice, but can't be used to test once your code grows over to even a few 100 lines.  For this purpose use asserts.  Let's convert the prints above to asserts"
     ]
    },
    {
     "cell_type": "code",
     "collapsed": false,
     "input": [
      "# You can also do == True, but Ture, False, None are Singleton Objects, so use \"is\".  Ask me later if this is confusing\n",
      "assert(is_even(5) is False)\n",
      "assert(is_even(4) is True)\n",
      "\n",
      "# No output will be shown if the asserts are Valid.  Change the value to see the Traceback error."
     ],
     "language": "python",
     "metadata": {},
     "outputs": [],
     "prompt_number": 29
    },
    {
     "cell_type": "code",
     "collapsed": false,
     "input": [
      "# Excercise 1: \n",
      "\n",
      "# Check if a number is a Power of 2"
     ],
     "language": "python",
     "metadata": {},
     "outputs": [],
     "prompt_number": 25
    },
    {
     "cell_type": "code",
     "collapsed": false,
     "input": [
      "# Excercise 2:\n",
      "\n",
      "# Reverse a String"
     ],
     "language": "python",
     "metadata": {},
     "outputs": []
    }
   ],
   "metadata": {}
  }
 ]
}