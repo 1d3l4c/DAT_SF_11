{
 "metadata": {
  "name": "",
  "signature": "sha256:560193dde8a28b7a13ca475adb168c806b6ffedad5afceff61cf5dddcb7e882f"
 },
 "nbformat": 3,
 "nbformat_minor": 0,
 "worksheets": [
  {
   "cells": [
    {
     "cell_type": "markdown",
     "metadata": {},
     "source": [
      "# IPython Interactive Widgets"
     ]
    },
    {
     "cell_type": "code",
     "collapsed": false,
     "input": [
      "from __future__ import print_function, division\n",
      "from IPython.html.widgets import interact"
     ],
     "language": "python",
     "metadata": {},
     "outputs": [],
     "prompt_number": 49
    },
    {
     "cell_type": "code",
     "collapsed": false,
     "input": [
      "import numpy as np\n",
      "import matplotlib.pyplot as plt"
     ],
     "language": "python",
     "metadata": {},
     "outputs": [],
     "prompt_number": 50
    },
    {
     "cell_type": "code",
     "collapsed": false,
     "input": [
      "%matplotlib inline"
     ],
     "language": "python",
     "metadata": {},
     "outputs": [],
     "prompt_number": 51
    },
    {
     "cell_type": "code",
     "collapsed": false,
     "input": [
      "def welcome(name='GA'):\n",
      "    print('Welcome to ' + name)"
     ],
     "language": "python",
     "metadata": {},
     "outputs": [],
     "prompt_number": 52
    },
    {
     "cell_type": "code",
     "collapsed": false,
     "input": [
      "_ = interact(welcome)"
     ],
     "language": "python",
     "metadata": {},
     "outputs": [
      {
       "output_type": "stream",
       "stream": "stdout",
       "text": [
        "Welcome to GA\n"
       ]
      }
     ],
     "prompt_number": 53
    },
    {
     "cell_type": "markdown",
     "metadata": {},
     "source": [
      "Suppose you have modelling function that you want to "
     ]
    },
    {
     "cell_type": "code",
     "collapsed": false,
     "input": [
      "# Suppose you don't know the function that fits the data well, you can try various transformations\n",
      "# This is where Interactive Widgets can be very powerful to your workflow\n",
      "def plot_powers(y_power=1):\n",
      "    x = np.arange(10)\n",
      "    y_true = np.arange(10) ** 2  # Assume true model is Y = X ** 2\n",
      "    plt.scatter(x, y_true)  # Plot the true values as a scatter plot\n",
      "    # Now try out the model with various powers\n",
      "    y_model = np.arange(10) ** y_power\n",
      "    plt.plot(x, y_model, 'r-')  # Plot the model"
     ],
     "language": "python",
     "metadata": {},
     "outputs": [],
     "prompt_number": 54
    },
    {
     "cell_type": "code",
     "collapsed": false,
     "input": [
      "_ = interact(plot_powers, x_power=(1, 5), y_power=(1, 5))"
     ],
     "language": "python",
     "metadata": {},
     "outputs": [
      {
       "metadata": {},
       "output_type": "display_data",
       "png": "[encoded data removed]",
       "text": [
        "<matplotlib.figure.Figure at 0x1064fb210>"
       ]
      }
     ],
     "prompt_number": 48
    }
   ],
   "metadata": {}
  }
 ]
}